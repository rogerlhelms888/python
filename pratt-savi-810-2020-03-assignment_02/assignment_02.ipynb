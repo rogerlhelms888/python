{
 "cells": [
  {
   "cell_type": "markdown",
   "metadata": {},
   "source": [
    "# Assignment 02\n",
    "\n",
    "\n",
    "![http://www.pratt.edu/tiny_mce/plugins/imagemanager/files/Light_brown_blue22.jpg](http://www.pratt.edu/tiny_mce/plugins/imagemanager/files/Light_brown_blue22.jpg)"
   ]
  },
  {
   "cell_type": "markdown",
   "metadata": {
    "toc": true
   },
   "source": [
    "<h1>Table of Contents<span class=\"tocSkip\"></span></h1>\n",
    "<div class=\"toc\"><ul class=\"toc-item\"><li><span><a href=\"#Assignment-02\" data-toc-modified-id=\"Assignment-02-1\">Assignment 02</a></span><ul class=\"toc-item\"><li><span><a href=\"#Instructions\" data-toc-modified-id=\"Instructions-1.1\">Instructions</a></span></li></ul></li><li><span><a href=\"#Import-Libraries\" data-toc-modified-id=\"Import-Libraries-2\">Import Libraries</a></span></li><li><span><a href=\"#Collect-the-Necessary-Data\" data-toc-modified-id=\"Collect-the-Necessary-Data-3\">Collect the Necessary Data</a></span><ul class=\"toc-item\"><li><span><a href=\"#Hospitals-Data\" data-toc-modified-id=\"Hospitals-Data-3.1\">Hospitals Data</a></span><ul class=\"toc-item\"><li><ul class=\"toc-item\"><li><span><a href=\"#Load-this-file-into-a-GeoDataFrame\" data-toc-modified-id=\"Load-this-file-into-a-GeoDataFrame-3.1.0.1\">Load this file into a GeoDataFrame</a></span></li><li><span><a href=\"#Check-the-first-3-rows-(aka-the-head())-of-the-DataFrame\" data-toc-modified-id=\"Check-the-first-3-rows-(aka-the-head())-of-the-DataFrame-3.1.0.2\">Check the first 3 rows (aka the head()) of the DataFrame</a></span></li><li><span><a href=\"#Query-the-Hospitals-GeoDataFrame-to-only-include-NY-State-Hospitals.\" data-toc-modified-id=\"Query-the-Hospitals-GeoDataFrame-to-only-include-NY-State-Hospitals.-3.1.0.3\">Query the Hospitals GeoDataFrame to only include NY State Hospitals.</a></span></li><li><span><a href=\"#Next-let's-Query-only-include-Hospitals-in-New-York-City-Counties\" data-toc-modified-id=\"Next-let's-Query-only-include-Hospitals-in-New-York-City-Counties-3.1.0.4\">Next let's Query only include Hospitals in New York City Counties</a></span></li><li><span><a href=\"#Check-the-first-3-rows-(aka-the-head())-of-the-DataFrame\" data-toc-modified-id=\"Check-the-first-3-rows-(aka-the-head())-of-the-DataFrame-3.1.0.5\">Check the first 3 rows (aka the head()) of the DataFrame</a></span></li><li><span><a href=\"#You've-been-supplied-code-to-reclass--999-Missing-Values-to-Null\" data-toc-modified-id=\"You've-been-supplied-code-to-reclass--999-Missing-Values-to-Null-3.1.0.6\">You've been supplied code to reclass -999 Missing Values to Null</a></span></li><li><span><a href=\"#Plot-the-Distribution-of-NYC-Hospital-Beds-in-a-Histogram-Plot\" data-toc-modified-id=\"Plot-the-Distribution-of-NYC-Hospital-Beds-in-a-Histogram-Plot-3.1.0.7\">Plot the Distribution of NYC Hospital Beds in a Histogram Plot</a></span></li><li><span><a href=\"#Do-a-quick-GeoDataFrame-Map--.plot()-to-see-our-the-spatial-distribution-of-our-data\" data-toc-modified-id=\"Do-a-quick-GeoDataFrame-Map--.plot()-to-see-our-the-spatial-distribution-of-our-data-3.1.0.8\">Do a quick GeoDataFrame Map  <code>.plot()</code> to see our the spatial distribution of our data</a></span></li><li><span><a href=\"#We'll-use-our-boro_data-Dictionary-from-Assignment-01\" data-toc-modified-id=\"We'll-use-our-boro_data-Dictionary-from-Assignment-01-3.1.0.9\">We'll use our <code>boro_data</code> Dictionary from Assignment 01</a></span></li><li><span><a href=\"#Let's-check-out-boro_df\" data-toc-modified-id=\"Let's-check-out-boro_df-3.1.0.10\">Let's check out <code>boro_df</code></a></span></li><li><span><a href=\"#Run-a-.merge()-to-add-the-boro_df-data-to-the-nyc_hospitals-GeoDataFrame\" data-toc-modified-id=\"Run-a-.merge()-to-add-the-boro_df-data-to-the-nyc_hospitals-GeoDataFrame-3.1.0.11\">Run a <code>.merge()</code> to add the <code>boro_df</code> data to the <code>nyc_hospitals</code> GeoDataFrame</a></span></li><li><span><a href=\"#Display-the-first-10-rows-of-the-GeoDataFrame-.head(...-hint,-n=)\" data-toc-modified-id=\"Display-the-first-10-rows-of-the-GeoDataFrame-.head(...-hint,-n=)-3.1.0.12\">Display the first 10 rows of the GeoDataFrame <code>.head(... hint, n=)</code></a></span></li><li><span><a href=\"#Groupby-and-Sum-the-BEDS-variable\" data-toc-modified-id=\"Groupby-and-Sum-the-BEDS-variable-3.1.0.13\">Groupby and Sum the BEDS variable</a></span></li><li><span><a href=\"#Display-the-.head()-of-grouped\" data-toc-modified-id=\"Display-the-.head()-of-grouped-3.1.0.14\">Display the <code>.head()</code> of <code>grouped</code></a></span></li><li><span><a href=\"#Create-a-new-column-called-boro_pop_per_hosp_bed.\" data-toc-modified-id=\"Create-a-new-column-called-boro_pop_per_hosp_bed.-3.1.0.15\">Create a new column called <code>boro_pop_per_hosp_bed</code>.</a></span></li><li><span><a href=\"#This-column-will-be-the-Calculation-of-Population-/-Beds--(-/-meaning-divided-by)\" data-toc-modified-id=\"This-column-will-be-the-Calculation-of-Population-/-Beds--(-/-meaning-divided-by)-3.1.0.16\">This column will be the Calculation of Population / Beds  ( / meaning divided by)</a></span></li><li><span><a href=\"#Display-the-.head()-of-grouped-DataFrame-to-check-our-results\" data-toc-modified-id=\"Display-the-.head()-of-grouped-DataFrame-to-check-our-results-3.1.0.17\">Display the <code>.head()</code> of <code>grouped</code> DataFrame to check our results</a></span></li><li><span><a href=\"#Plot-a-bar-chart-showing-Borough-Population-per-Hospital-Bed\" data-toc-modified-id=\"Plot-a-bar-chart-showing-Borough-Population-per-Hospital-Bed-3.1.0.18\">Plot a bar chart showing Borough Population per Hospital Bed</a></span></li></ul></li></ul></li></ul></li><li><span><a href=\"#Map-our-Final-Results\" data-toc-modified-id=\"Map-our-Final-Results-4\">Map our Final Results</a></span><ul class=\"toc-item\"><li><ul class=\"toc-item\"><li><ul class=\"toc-item\"><li><span><a href=\"#Read-in-boro_geojso_link-as-GeoDataFrame-called-boro\" data-toc-modified-id=\"Read-in-boro_geojso_link-as-GeoDataFrame-called-boro-4.0.0.1\">Read in <code>boro_geojso_link</code> as GeoDataFrame called <code>boro</code></a></span></li><li><span><a href=\"#Merge-boro-to-grouped-on-boro_code-with-a-'left'-as-how=\" data-toc-modified-id=\"Merge-boro-to-grouped-on-boro_code-with-a-'left'-as-how=-4.0.0.2\">Merge <code>boro</code> to <code>grouped</code> on <code>boro_code</code> with a 'left' as <code>how=</code></a></span></li></ul></li></ul></li></ul></li></ul></div>"
   ]
  },
  {
   "cell_type": "markdown",
   "metadata": {},
   "source": [
    "## Instructions\n",
    "\n",
    "---\n",
    "\n",
    "You are a new hire in NYC Government's new Department of Geospatial Technology. Your manager has asked you to complete the following assignment.\n",
    "\n",
    "The Mayor of the City of New York and the Governor of New York State have tasked your team in evaluating the **number of hospital beds** per **population** by **borough**. "
   ]
  },
  {
   "cell_type": "markdown",
   "metadata": {},
   "source": [
    "# Import Libraries\n",
    "The libraries required for this assignment are imported for you below."
   ]
  },
  {
   "cell_type": "code",
   "execution_count": 1,
   "metadata": {},
   "outputs": [],
   "source": [
    "import pandas as pd\n",
    "import geopandas as gpd \n",
    "import numpy as np\n",
    "import matplotlib.pyplot as plt"
   ]
  },
  {
   "cell_type": "code",
   "execution_count": 2,
   "metadata": {},
   "outputs": [],
   "source": [
    "%matplotlib inline"
   ]
  },
  {
   "cell_type": "code",
   "execution_count": 3,
   "metadata": {},
   "outputs": [],
   "source": [
    "plt.style.use('ggplot')  # we're going to use ggplot styled plots"
   ]
  },
  {
   "cell_type": "markdown",
   "metadata": {},
   "source": [
    "# Collect the Necessary Data"
   ]
  },
  {
   "cell_type": "markdown",
   "metadata": {},
   "source": [
    "## Hospitals Data\n",
    "\n",
    "You've been supplied the url for the Hospitals Data to use. Run the cell below. "
   ]
  },
  {
   "cell_type": "code",
   "execution_count": 4,
   "metadata": {},
   "outputs": [],
   "source": [
    "geojson_link = 'https://opendata.arcgis.com/datasets/6ac5e325468c4cb9b905f1728d6fbf0f_0.geojson'"
   ]
  },
  {
   "cell_type": "markdown",
   "metadata": {},
   "source": [
    "#### Load this file into a GeoDataFrame\n",
    "See **Lesson 03 GeoPandas section** for reference. \n",
    "\n",
    "You're being asking to load the GeoDataFrame as a variable named `gdf`. \n",
    "\n",
    "```python\n",
    "\n",
    "gdf = # \"read\" the \"file\" - file being the .geoson link above\n",
    "\n",
    "```"
   ]
  },
  {
   "cell_type": "code",
   "execution_count": 6,
   "metadata": {},
   "outputs": [],
   "source": [
    "# by Roger.  Seems successful.\n",
    "gdf = gpd.read_file('https://opendata.arcgis.com/datasets/6ac5e325468c4cb9b905f1728d6fbf0f_0.geojson') # Roger's fix.  I think it works."
   ]
  },
  {
   "cell_type": "markdown",
   "metadata": {},
   "source": [
    "#### Check the first 3 rows (aka the head()) of the DataFrame "
   ]
  },
  {
   "cell_type": "code",
   "execution_count": 8,
   "metadata": {
    "scrolled": true
   },
   "outputs": [
    {
     "data": {
      "text/html": [
       "<div>\n",
       "<style scoped>\n",
       "    .dataframe tbody tr th:only-of-type {\n",
       "        vertical-align: middle;\n",
       "    }\n",
       "\n",
       "    .dataframe tbody tr th {\n",
       "        vertical-align: top;\n",
       "    }\n",
       "\n",
       "    .dataframe thead th {\n",
       "        text-align: right;\n",
       "    }\n",
       "</style>\n",
       "<table border=\"1\" class=\"dataframe\">\n",
       "  <thead>\n",
       "    <tr style=\"text-align: right;\">\n",
       "      <th></th>\n",
       "      <th>OBJECTID</th>\n",
       "      <th>ID</th>\n",
       "      <th>NAME</th>\n",
       "      <th>ADDRESS</th>\n",
       "      <th>CITY</th>\n",
       "      <th>STATE</th>\n",
       "      <th>ZIP</th>\n",
       "      <th>ZIP4</th>\n",
       "      <th>TELEPHONE</th>\n",
       "      <th>TYPE</th>\n",
       "      <th>...</th>\n",
       "      <th>WEBSITE</th>\n",
       "      <th>STATE_ID</th>\n",
       "      <th>ALT_NAME</th>\n",
       "      <th>ST_FIPS</th>\n",
       "      <th>OWNER</th>\n",
       "      <th>TTL_STAFF</th>\n",
       "      <th>BEDS</th>\n",
       "      <th>TRAUMA</th>\n",
       "      <th>HELIPAD</th>\n",
       "      <th>geometry</th>\n",
       "    </tr>\n",
       "  </thead>\n",
       "  <tbody>\n",
       "    <tr>\n",
       "      <th>0</th>\n",
       "      <td>1001</td>\n",
       "      <td>0007892363</td>\n",
       "      <td>COLORADO RIVER MEDICAL CENTER</td>\n",
       "      <td>1401 BAILEY AVENUE</td>\n",
       "      <td>NEEDLES</td>\n",
       "      <td>CA</td>\n",
       "      <td>92363</td>\n",
       "      <td>NOT AVAILABLE</td>\n",
       "      <td>NOT AVAILABLE</td>\n",
       "      <td>GENERAL ACUTE CARE</td>\n",
       "      <td>...</td>\n",
       "      <td>http://www.cityofneedles.com/Hospitals.asp</td>\n",
       "      <td>NOT AVAILABLE</td>\n",
       "      <td>NOT AVAILABLE</td>\n",
       "      <td>06</td>\n",
       "      <td>GOVERNMENT - LOCAL</td>\n",
       "      <td>-999</td>\n",
       "      <td>25</td>\n",
       "      <td>NOT AVAILABLE</td>\n",
       "      <td>Y</td>\n",
       "      <td>POINT (-114.61749 34.83307)</td>\n",
       "    </tr>\n",
       "    <tr>\n",
       "      <th>1</th>\n",
       "      <td>1002</td>\n",
       "      <td>0001392120</td>\n",
       "      <td>ALVARADO HOSPITAL MEDICAL CENTER</td>\n",
       "      <td>6655 ALVARADO ROAD</td>\n",
       "      <td>SAN DIEGO</td>\n",
       "      <td>CA</td>\n",
       "      <td>92120</td>\n",
       "      <td>NOT AVAILABLE</td>\n",
       "      <td>NOT AVAILABLE</td>\n",
       "      <td>GENERAL ACUTE CARE</td>\n",
       "      <td>...</td>\n",
       "      <td>http://www.alvaradohospital.com</td>\n",
       "      <td>NOT AVAILABLE</td>\n",
       "      <td>NOT AVAILABLE</td>\n",
       "      <td>06</td>\n",
       "      <td>PROPRIETARY</td>\n",
       "      <td>-999</td>\n",
       "      <td>226</td>\n",
       "      <td>NOT AVAILABLE</td>\n",
       "      <td>N</td>\n",
       "      <td>POINT (-117.05706 32.77659)</td>\n",
       "    </tr>\n",
       "    <tr>\n",
       "      <th>2</th>\n",
       "      <td>1003</td>\n",
       "      <td>0001591942</td>\n",
       "      <td>ALVARADO PARKWAY INSTITUTE B.H.S.</td>\n",
       "      <td>7050 PARKWAY DRIVE</td>\n",
       "      <td>LA MESA</td>\n",
       "      <td>CA</td>\n",
       "      <td>91942</td>\n",
       "      <td>NOT AVAILABLE</td>\n",
       "      <td>NOT AVAILABLE</td>\n",
       "      <td>PSYCHIATRIC</td>\n",
       "      <td>...</td>\n",
       "      <td>http://www.apibhs.com</td>\n",
       "      <td>NOT AVAILABLE</td>\n",
       "      <td>NOT AVAILABLE</td>\n",
       "      <td>06</td>\n",
       "      <td>PROPRIETARY</td>\n",
       "      <td>-999</td>\n",
       "      <td>66</td>\n",
       "      <td>NOT AVAILABLE</td>\n",
       "      <td>N</td>\n",
       "      <td>POINT (-117.04416 32.77463)</td>\n",
       "    </tr>\n",
       "  </tbody>\n",
       "</table>\n",
       "<p>3 rows × 33 columns</p>\n",
       "</div>"
      ],
      "text/plain": [
       "   OBJECTID          ID                               NAME  \\\n",
       "0      1001  0007892363      COLORADO RIVER MEDICAL CENTER   \n",
       "1      1002  0001392120   ALVARADO HOSPITAL MEDICAL CENTER   \n",
       "2      1003  0001591942  ALVARADO PARKWAY INSTITUTE B.H.S.   \n",
       "\n",
       "              ADDRESS       CITY STATE    ZIP           ZIP4      TELEPHONE  \\\n",
       "0  1401 BAILEY AVENUE    NEEDLES    CA  92363  NOT AVAILABLE  NOT AVAILABLE   \n",
       "1  6655 ALVARADO ROAD  SAN DIEGO    CA  92120  NOT AVAILABLE  NOT AVAILABLE   \n",
       "2  7050 PARKWAY DRIVE    LA MESA    CA  91942  NOT AVAILABLE  NOT AVAILABLE   \n",
       "\n",
       "                 TYPE  ...                                     WEBSITE  \\\n",
       "0  GENERAL ACUTE CARE  ...  http://www.cityofneedles.com/Hospitals.asp   \n",
       "1  GENERAL ACUTE CARE  ...             http://www.alvaradohospital.com   \n",
       "2         PSYCHIATRIC  ...                       http://www.apibhs.com   \n",
       "\n",
       "        STATE_ID       ALT_NAME ST_FIPS               OWNER  TTL_STAFF  BEDS  \\\n",
       "0  NOT AVAILABLE  NOT AVAILABLE      06  GOVERNMENT - LOCAL       -999    25   \n",
       "1  NOT AVAILABLE  NOT AVAILABLE      06         PROPRIETARY       -999   226   \n",
       "2  NOT AVAILABLE  NOT AVAILABLE      06         PROPRIETARY       -999    66   \n",
       "\n",
       "          TRAUMA HELIPAD                     geometry  \n",
       "0  NOT AVAILABLE       Y  POINT (-114.61749 34.83307)  \n",
       "1  NOT AVAILABLE       N  POINT (-117.05706 32.77659)  \n",
       "2  NOT AVAILABLE       N  POINT (-117.04416 32.77463)  \n",
       "\n",
       "[3 rows x 33 columns]"
      ]
     },
     "execution_count": 8,
     "metadata": {},
     "output_type": "execute_result"
    }
   ],
   "source": [
    "# by Roger.  Seems successful.\n",
    "gdf.head(3)\n",
    "### your code here\n",
    "### your code here"
   ]
  },
  {
   "cell_type": "markdown",
   "metadata": {},
   "source": [
    "#### Query the Hospitals GeoDataFrame to only include NY State Hospitals. "
   ]
  },
  {
   "cell_type": "code",
   "execution_count": null,
   "metadata": {},
   "outputs": [],
   "source": [
    "# Original, unchanged by Roger\n",
    "ny_state_hospitals = gdf[\n",
    "    gdf['STATE'] == # only spot to put code,\n",
    "    # enter your code above, the string of our query for New York State.\n",
    "    # enter your code above, the string of our query for New York State.\n",
    "    # enter your code above, the string of our query for New York State.\n",
    "]"
   ]
  },
  {
   "cell_type": "code",
   "execution_count": 9,
   "metadata": {},
   "outputs": [],
   "source": [
    "# Roger's attempt.  Successful, I think.\n",
    "# df[df['STATE'] == 'NY']\n",
    "\n",
    "ny_state_hospitals = gdf[gdf['STATE'] == 'NY']\n",
    "# verify\n",
    "ny_state_hospitals.head(5)\n",
    "# The top rows came up successfully"
   ]
  },
  {
   "cell_type": "code",
   "execution_count": 11,
   "metadata": {},
   "outputs": [
    {
     "data": {
      "text/html": [
       "<div>\n",
       "<style scoped>\n",
       "    .dataframe tbody tr th:only-of-type {\n",
       "        vertical-align: middle;\n",
       "    }\n",
       "\n",
       "    .dataframe tbody tr th {\n",
       "        vertical-align: top;\n",
       "    }\n",
       "\n",
       "    .dataframe thead th {\n",
       "        text-align: right;\n",
       "    }\n",
       "</style>\n",
       "<table border=\"1\" class=\"dataframe\">\n",
       "  <thead>\n",
       "    <tr style=\"text-align: right;\">\n",
       "      <th></th>\n",
       "      <th>OBJECTID</th>\n",
       "      <th>ID</th>\n",
       "      <th>NAME</th>\n",
       "      <th>ADDRESS</th>\n",
       "      <th>CITY</th>\n",
       "      <th>STATE</th>\n",
       "      <th>ZIP</th>\n",
       "      <th>ZIP4</th>\n",
       "      <th>TELEPHONE</th>\n",
       "      <th>TYPE</th>\n",
       "      <th>...</th>\n",
       "      <th>WEBSITE</th>\n",
       "      <th>STATE_ID</th>\n",
       "      <th>ALT_NAME</th>\n",
       "      <th>ST_FIPS</th>\n",
       "      <th>OWNER</th>\n",
       "      <th>TTL_STAFF</th>\n",
       "      <th>BEDS</th>\n",
       "      <th>TRAUMA</th>\n",
       "      <th>HELIPAD</th>\n",
       "      <th>geometry</th>\n",
       "    </tr>\n",
       "  </thead>\n",
       "  <tbody>\n",
       "    <tr>\n",
       "      <th>500</th>\n",
       "      <td>1501</td>\n",
       "      <td>0003611790</td>\n",
       "      <td>STONY BROOK UNIVERSITY HOSPITAL</td>\n",
       "      <td>101 NICOLLS RD</td>\n",
       "      <td>STONY BROOK</td>\n",
       "      <td>NY</td>\n",
       "      <td>11790</td>\n",
       "      <td>NOT AVAILABLE</td>\n",
       "      <td>(516) 689-3333</td>\n",
       "      <td>GENERAL ACUTE CARE</td>\n",
       "      <td>...</td>\n",
       "      <td>https://www.stonybrookmedicine.edu/sbuh</td>\n",
       "      <td>5151001H</td>\n",
       "      <td>NOT AVAILABLE</td>\n",
       "      <td>36</td>\n",
       "      <td>GOVERNMENT - STATE</td>\n",
       "      <td>-999</td>\n",
       "      <td>603</td>\n",
       "      <td>LEVEL I, LEVEL I PEDIATRIC</td>\n",
       "      <td>Y</td>\n",
       "      <td>POINT (-73.11568 40.90919)</td>\n",
       "    </tr>\n",
       "    <tr>\n",
       "      <th>502</th>\n",
       "      <td>1503</td>\n",
       "      <td>0118012601</td>\n",
       "      <td>MID-HUDSON VALLEY DIVISION OF WESTCHESTER MEDI...</td>\n",
       "      <td>241 NORTH ROAD</td>\n",
       "      <td>POUGHKEEPSIE</td>\n",
       "      <td>NY</td>\n",
       "      <td>12601</td>\n",
       "      <td>NOT AVAILABLE</td>\n",
       "      <td>(845) 483-5000</td>\n",
       "      <td>GENERAL ACUTE CARE</td>\n",
       "      <td>...</td>\n",
       "      <td>http://www.midhudsonregional.org/</td>\n",
       "      <td>1302000H</td>\n",
       "      <td>ST FRANCIS HOSPITAL OF POUGHKEEPSIE</td>\n",
       "      <td>36</td>\n",
       "      <td>GOVERNMENT - LOCAL</td>\n",
       "      <td>-999</td>\n",
       "      <td>243</td>\n",
       "      <td>LEVEL II</td>\n",
       "      <td>Y</td>\n",
       "      <td>POINT (-73.92771 41.71784)</td>\n",
       "    </tr>\n",
       "    <tr>\n",
       "      <th>682</th>\n",
       "      <td>1683</td>\n",
       "      <td>0120812742</td>\n",
       "      <td>CATSKILL REGIONAL MEDICAL CENTER</td>\n",
       "      <td>68 HARRIS-BUSHVILLE RD</td>\n",
       "      <td>HARRIS</td>\n",
       "      <td>NY</td>\n",
       "      <td>12742</td>\n",
       "      <td>NOT AVAILABLE</td>\n",
       "      <td>(845) 794-3300</td>\n",
       "      <td>GENERAL ACUTE CARE</td>\n",
       "      <td>...</td>\n",
       "      <td>http://www.crmcny.org/</td>\n",
       "      <td>5263000H</td>\n",
       "      <td>NOT AVAILABLE</td>\n",
       "      <td>36</td>\n",
       "      <td>NON-PROFIT</td>\n",
       "      <td>-999</td>\n",
       "      <td>154</td>\n",
       "      <td>NOT AVAILABLE</td>\n",
       "      <td>Y</td>\n",
       "      <td>POINT (-74.73752 41.70906)</td>\n",
       "    </tr>\n",
       "  </tbody>\n",
       "</table>\n",
       "<p>3 rows × 33 columns</p>\n",
       "</div>"
      ],
      "text/plain": [
       "     OBJECTID          ID                                               NAME  \\\n",
       "500      1501  0003611790                    STONY BROOK UNIVERSITY HOSPITAL   \n",
       "502      1503  0118012601  MID-HUDSON VALLEY DIVISION OF WESTCHESTER MEDI...   \n",
       "682      1683  0120812742                   CATSKILL REGIONAL MEDICAL CENTER   \n",
       "\n",
       "                    ADDRESS          CITY STATE    ZIP           ZIP4  \\\n",
       "500          101 NICOLLS RD   STONY BROOK    NY  11790  NOT AVAILABLE   \n",
       "502          241 NORTH ROAD  POUGHKEEPSIE    NY  12601  NOT AVAILABLE   \n",
       "682  68 HARRIS-BUSHVILLE RD        HARRIS    NY  12742  NOT AVAILABLE   \n",
       "\n",
       "          TELEPHONE                TYPE  ...  \\\n",
       "500  (516) 689-3333  GENERAL ACUTE CARE  ...   \n",
       "502  (845) 483-5000  GENERAL ACUTE CARE  ...   \n",
       "682  (845) 794-3300  GENERAL ACUTE CARE  ...   \n",
       "\n",
       "                                     WEBSITE  STATE_ID  \\\n",
       "500  https://www.stonybrookmedicine.edu/sbuh  5151001H   \n",
       "502        http://www.midhudsonregional.org/  1302000H   \n",
       "682                   http://www.crmcny.org/  5263000H   \n",
       "\n",
       "                                ALT_NAME ST_FIPS               OWNER  \\\n",
       "500                        NOT AVAILABLE      36  GOVERNMENT - STATE   \n",
       "502  ST FRANCIS HOSPITAL OF POUGHKEEPSIE      36  GOVERNMENT - LOCAL   \n",
       "682                        NOT AVAILABLE      36          NON-PROFIT   \n",
       "\n",
       "     TTL_STAFF  BEDS                      TRAUMA HELIPAD  \\\n",
       "500       -999   603  LEVEL I, LEVEL I PEDIATRIC       Y   \n",
       "502       -999   243                    LEVEL II       Y   \n",
       "682       -999   154               NOT AVAILABLE       Y   \n",
       "\n",
       "                       geometry  \n",
       "500  POINT (-73.11568 40.90919)  \n",
       "502  POINT (-73.92771 41.71784)  \n",
       "682  POINT (-74.73752 41.70906)  \n",
       "\n",
       "[3 rows x 33 columns]"
      ]
     },
     "execution_count": 11,
     "metadata": {},
     "output_type": "execute_result"
    }
   ],
   "source": [
    "# check\n",
    "ny_state_hospitals.head(3)\n",
    "# so good."
   ]
  },
  {
   "cell_type": "markdown",
   "metadata": {},
   "source": [
    "#### Next let's Query only include Hospitals in New York City Counties\n",
    "\n",
    "There are five (5) counties in New York City. They have FIPS codes. So we want to select from the following county FIPS codes:\n",
    "\n",
    "* 36081\n",
    "* 36061\n",
    "* 36085\n",
    "* 36047\n",
    "* 36005\n",
    "\n",
    "You'll need to use the \"OR\" statement in your query `|`, you've been provided most of the code, but you need to enter the strings into the query. "
   ]
  },
  {
   "cell_type": "code",
   "execution_count": null,
   "metadata": {},
   "outputs": [],
   "source": [
    "# Original, unaltered by Roger\n",
    "nyc_hospitals = ny_state_hospitals[ \n",
    "    (\n",
    "        (ny_state_hospitals['COUNTYFIPS'] == '<place FIPS codes here>') | # <place FIPS codes here>\n",
    "        (ny_state_hospitals['COUNTYFIPS'] == '<place FIPS codes here>') |  # <place FIPS codes here>\n",
    "        (ny_state_hospitals['COUNTYFIPS'] == '<place FIPS codes here>') |  # <place FIPS codes here>\n",
    "        (ny_state_hospitals['COUNTYFIPS'] == '<place FIPS codes here>') |  # <place FIPS codes here>\n",
    "        (ny_state_hospitals['COUNTYFIPS'] == '<place FIPS codes here>')    # <place FIPS codes here>\n",
    "    )  \n",
    "    # enter your code above, the string of our query for NYC Counties.\n",
    "    # enter your code above, the string of our query for NYC Counties.\n",
    "    # enter your code above, the string of our query for NYC Counties.\n",
    "    \n",
    "] # selects only nyc counties hospitals, creates new dataframe"
   ]
  },
  {
   "cell_type": "code",
   "execution_count": 10,
   "metadata": {},
   "outputs": [],
   "source": [
    "# Roger's version.  Successful, I believe.\n",
    "nyc_hospitals = ny_state_hospitals[ \n",
    "    (\n",
    "        (ny_state_hospitals['COUNTYFIPS'] == '36081') | # <place FIPS codes here>\n",
    "        (ny_state_hospitals['COUNTYFIPS'] == '36061') |  # <place FIPS codes here>\n",
    "        (ny_state_hospitals['COUNTYFIPS'] == '36085') |  # <place FIPS codes here>\n",
    "        (ny_state_hospitals['COUNTYFIPS'] == '36047') |  # <place FIPS codes here>\n",
    "        (ny_state_hospitals['COUNTYFIPS'] == '36005')    # <place FIPS codes here>\n",
    "    )  ]"
   ]
  },
  {
   "cell_type": "markdown",
   "metadata": {},
   "source": [
    "#### Check the first 3 rows (aka the head()) of the DataFrame "
   ]
  },
  {
   "cell_type": "code",
   "execution_count": 14,
   "metadata": {},
   "outputs": [
    {
     "data": {
      "text/html": [
       "<div>\n",
       "<style scoped>\n",
       "    .dataframe tbody tr th:only-of-type {\n",
       "        vertical-align: middle;\n",
       "    }\n",
       "\n",
       "    .dataframe tbody tr th {\n",
       "        vertical-align: top;\n",
       "    }\n",
       "\n",
       "    .dataframe thead th {\n",
       "        text-align: right;\n",
       "    }\n",
       "</style>\n",
       "<table border=\"1\" class=\"dataframe\">\n",
       "  <thead>\n",
       "    <tr style=\"text-align: right;\">\n",
       "      <th></th>\n",
       "      <th>OBJECTID</th>\n",
       "      <th>ID</th>\n",
       "      <th>NAME</th>\n",
       "      <th>ADDRESS</th>\n",
       "      <th>CITY</th>\n",
       "      <th>STATE</th>\n",
       "      <th>ZIP</th>\n",
       "      <th>ZIP4</th>\n",
       "      <th>TELEPHONE</th>\n",
       "      <th>TYPE</th>\n",
       "      <th>...</th>\n",
       "      <th>WEBSITE</th>\n",
       "      <th>STATE_ID</th>\n",
       "      <th>ALT_NAME</th>\n",
       "      <th>ST_FIPS</th>\n",
       "      <th>OWNER</th>\n",
       "      <th>TTL_STAFF</th>\n",
       "      <th>BEDS</th>\n",
       "      <th>TRAUMA</th>\n",
       "      <th>HELIPAD</th>\n",
       "      <th>geometry</th>\n",
       "    </tr>\n",
       "  </thead>\n",
       "  <tbody>\n",
       "    <tr>\n",
       "      <th>2255</th>\n",
       "      <td>6256</td>\n",
       "      <td>0019010044</td>\n",
       "      <td>COLER-GOLDWATER SPECIALTY HOSPITAL &amp; NURSING F...</td>\n",
       "      <td>900 MAIN STREET ROOSEVELT ISLAND</td>\n",
       "      <td>NEW YORK</td>\n",
       "      <td>NY</td>\n",
       "      <td>10044</td>\n",
       "      <td>NOT AVAILABLE</td>\n",
       "      <td>(212) 848-6000</td>\n",
       "      <td>LONG TERM CARE</td>\n",
       "      <td>...</td>\n",
       "      <td>http://www.nychealthandhospitals.org/coler/</td>\n",
       "      <td>7002051H</td>\n",
       "      <td>NOT AVAILABLE</td>\n",
       "      <td>36</td>\n",
       "      <td>GOVERNMENT - LOCAL</td>\n",
       "      <td>-999</td>\n",
       "      <td>210</td>\n",
       "      <td>NOT AVAILABLE</td>\n",
       "      <td>N</td>\n",
       "      <td>POINT (-73.94214 40.77030)</td>\n",
       "    </tr>\n",
       "    <tr>\n",
       "      <th>2809</th>\n",
       "      <td>6810</td>\n",
       "      <td>0015710451</td>\n",
       "      <td>LINCOLN HOSPITAL</td>\n",
       "      <td>234 E 149TH ST</td>\n",
       "      <td>BRONX</td>\n",
       "      <td>NY</td>\n",
       "      <td>10451</td>\n",
       "      <td>NOT AVAILABLE</td>\n",
       "      <td>(212) 579-4900</td>\n",
       "      <td>GENERAL ACUTE CARE</td>\n",
       "      <td>...</td>\n",
       "      <td>http://www.nyc.gov/html/hhc/lincoln/</td>\n",
       "      <td>1172</td>\n",
       "      <td>NOT AVAILABLE</td>\n",
       "      <td>36</td>\n",
       "      <td>GOVERNMENT - LOCAL</td>\n",
       "      <td>-999</td>\n",
       "      <td>362</td>\n",
       "      <td>LEVEL I</td>\n",
       "      <td>N</td>\n",
       "      <td>POINT (-73.92438 40.81717)</td>\n",
       "    </tr>\n",
       "    <tr>\n",
       "      <th>3153</th>\n",
       "      <td>4154</td>\n",
       "      <td>0018910021</td>\n",
       "      <td>GRACIE SQUARE HOSPITAL</td>\n",
       "      <td>420 E 76TH ST, 2ND, 3RD, 4TH &amp; 5TH FLOORS</td>\n",
       "      <td>NEW YORK</td>\n",
       "      <td>NY</td>\n",
       "      <td>10021</td>\n",
       "      <td>NOT AVAILABLE</td>\n",
       "      <td>(212) 988-4400</td>\n",
       "      <td>PSYCHIATRIC</td>\n",
       "      <td>...</td>\n",
       "      <td>http://www.nygsh.org</td>\n",
       "      <td>1458</td>\n",
       "      <td>NOT AVAILABLE</td>\n",
       "      <td>36</td>\n",
       "      <td>NON-PROFIT</td>\n",
       "      <td>-999</td>\n",
       "      <td>157</td>\n",
       "      <td>NOT AVAILABLE</td>\n",
       "      <td>N</td>\n",
       "      <td>POINT (-73.95302 40.76972)</td>\n",
       "    </tr>\n",
       "  </tbody>\n",
       "</table>\n",
       "<p>3 rows × 33 columns</p>\n",
       "</div>"
      ],
      "text/plain": [
       "      OBJECTID          ID                                               NAME  \\\n",
       "2255      6256  0019010044  COLER-GOLDWATER SPECIALTY HOSPITAL & NURSING F...   \n",
       "2809      6810  0015710451                                   LINCOLN HOSPITAL   \n",
       "3153      4154  0018910021                             GRACIE SQUARE HOSPITAL   \n",
       "\n",
       "                                        ADDRESS      CITY STATE    ZIP  \\\n",
       "2255           900 MAIN STREET ROOSEVELT ISLAND  NEW YORK    NY  10044   \n",
       "2809                             234 E 149TH ST     BRONX    NY  10451   \n",
       "3153  420 E 76TH ST, 2ND, 3RD, 4TH & 5TH FLOORS  NEW YORK    NY  10021   \n",
       "\n",
       "               ZIP4       TELEPHONE                TYPE  ...  \\\n",
       "2255  NOT AVAILABLE  (212) 848-6000      LONG TERM CARE  ...   \n",
       "2809  NOT AVAILABLE  (212) 579-4900  GENERAL ACUTE CARE  ...   \n",
       "3153  NOT AVAILABLE  (212) 988-4400         PSYCHIATRIC  ...   \n",
       "\n",
       "                                          WEBSITE  STATE_ID       ALT_NAME  \\\n",
       "2255  http://www.nychealthandhospitals.org/coler/  7002051H  NOT AVAILABLE   \n",
       "2809         http://www.nyc.gov/html/hhc/lincoln/      1172  NOT AVAILABLE   \n",
       "3153                         http://www.nygsh.org      1458  NOT AVAILABLE   \n",
       "\n",
       "     ST_FIPS               OWNER  TTL_STAFF  BEDS         TRAUMA HELIPAD  \\\n",
       "2255      36  GOVERNMENT - LOCAL       -999   210  NOT AVAILABLE       N   \n",
       "2809      36  GOVERNMENT - LOCAL       -999   362        LEVEL I       N   \n",
       "3153      36          NON-PROFIT       -999   157  NOT AVAILABLE       N   \n",
       "\n",
       "                        geometry  \n",
       "2255  POINT (-73.94214 40.77030)  \n",
       "2809  POINT (-73.92438 40.81717)  \n",
       "3153  POINT (-73.95302 40.76972)  \n",
       "\n",
       "[3 rows x 33 columns]"
      ]
     },
     "execution_count": 14,
     "metadata": {},
     "output_type": "execute_result"
    }
   ],
   "source": [
    "# verify\n",
    "nyc_hospitals.head(3)\n",
    "# so good, I think.  "
   ]
  },
  {
   "cell_type": "markdown",
   "metadata": {},
   "source": [
    "#### You've been supplied code to reclass -999 Missing Values to Null \n",
    "\n",
    "Run the code block below:"
   ]
  },
  {
   "cell_type": "code",
   "execution_count": 15,
   "metadata": {},
   "outputs": [
    {
     "name": "stderr",
     "output_type": "stream",
     "text": [
      "<ipython-input-15-c0132431024f>:1: SettingWithCopyWarning: \n",
      "A value is trying to be set on a copy of a slice from a DataFrame.\n",
      "Try using .loc[row_indexer,col_indexer] = value instead\n",
      "\n",
      "See the caveats in the documentation: https://pandas.pydata.org/pandas-docs/stable/user_guide/indexing.html#returning-a-view-versus-a-copy\n",
      "  nyc_hospitals['BEDS'] = np.where(\n"
     ]
    }
   ],
   "source": [
    "#  replaces -999 with the np.nan missing data type\n",
    "nyc_hospitals['BEDS'] = np.where(\n",
    "    nyc_hospitals['BEDS'] == -999,\n",
    "    np.nan,  \n",
    "    nyc_hospitals['BEDS']\n",
    ")  # run this code as-is, you may get a warning in pink, ignore. "
   ]
  },
  {
   "cell_type": "markdown",
   "metadata": {},
   "source": [
    "#### Plot the Distribution of NYC Hospital Beds in a Histogram Plot\n"
   ]
  },
  {
   "cell_type": "code",
   "execution_count": null,
   "metadata": {},
   "outputs": [],
   "source": [
    "# Original, unmodified by Roger\n",
    "plt.figure(figsize=(10, 8))\n",
    "# leave the above code as-is, this sets the size of your figure. \n",
    "\n",
    "# enter your code below, plot a Histogram\n",
    "# enter your code below, plot a Histogram\n",
    "# enter your code below, plot a Histogram\n",
    "\n",
    "# leave this code here, this adds a title to your plot:\n",
    "plt.title('NYC Hospital Bed Count Distribution');"
   ]
  },
  {
   "cell_type": "code",
   "execution_count": 55,
   "metadata": {},
   "outputs": [
    {
     "data": {
      "image/png": "[encoded data removed]",
      "text/plain": [
       "<Figure size 720x576 with 1 Axes>"
      ]
     },
     "metadata": {},
     "output_type": "display_data"
    }
   ],
   "source": [
    "# Roger's attempt:\n",
    "plt.figure(figsize=(10, 8))\n",
    "\n",
    "nyc_hospitals['BEDS'].plot(kind='hist');\n",
    "\n",
    "plt.title('NYC Hospitals by n Beds');"
   ]
  },
  {
   "cell_type": "markdown",
   "metadata": {},
   "source": [
    "#### Do a quick GeoDataFrame Map  `.plot()` to see our the spatial distribution of our data\n",
    "\n",
    "For this, please **add argument** `figsize=(10, 10)` inside our `.plot( )` function. "
   ]
  },
  {
   "cell_type": "code",
   "execution_count": 34,
   "metadata": {},
   "outputs": [
    {
     "data": {
      "image/png": "[encoded data removed]",
      "text/plain": [
       "<Figure size 720x576 with 1 Axes>"
      ]
     },
     "metadata": {},
     "output_type": "display_data"
    }
   ],
   "source": [
    "# Original assignment:\n",
    "\n",
    "# enter your code below, plot a GeoDataFrame Map, pass figsize=(10, 10) argument\n",
    "# enter your code below, plot a GeoDataFrame Map, pass figsize=(10, 10) argument\n",
    "# enter your code below, plot a GeoDataFrame Map, pass figsize=(10, 10 argument\n",
    "\n",
    "# leave this code here, this adds a title to your plot:\n",
    "plt.title('NYC Hospitals');"
   ]
  },
  {
   "cell_type": "code",
   "execution_count": 27,
   "metadata": {
    "scrolled": true
   },
   "outputs": [
    {
     "data": {
      "text/plain": [
       "<Figure size 720x576 with 0 Axes>"
      ]
     },
     "metadata": {},
     "output_type": "display_data"
    },
    {
     "data": {
      "image/png": "[encoded data removed]",
      "text/plain": [
       "<Figure size 432x288 with 1 Axes>"
      ]
     },
     "metadata": {},
     "output_type": "display_data"
    }
   ],
   "source": [
    "# Roger's attempt:\n",
    "plt.figure(figsize=(10, 8))\n",
    "\n",
    "nyc_hospitals.plot()\n",
    "# I have no idea what parameters to be passing to this .plot method.  When I hit shift-tab for help, I see \\\n",
    "# parameters listed\n",
    "\n",
    "plt.title('NYC Hospitals');\n",
    "# nothing I did worked.  Was I supposed to have split out the lat / longs into their own columns first?"
   ]
  },
  {
   "cell_type": "markdown",
   "metadata": {},
   "source": [
    "#### We'll use our `boro_data` Dictionary from Assignment 01 \n",
    "Run the code block below to define the dictionary `boro_data`. "
   ]
  },
  {
   "cell_type": "code",
   "execution_count": 28,
   "metadata": {},
   "outputs": [],
   "source": [
    "boro_data = {\n",
    "    \"Manhattan\": {\n",
    "        \"COUNTYFIPS\": '36061',\n",
    "        \"boro_code\": '1',\n",
    "        \"boro_population\": 1_628_701,\n",
    "        \"boro_name\": \"Manhattan\",\n",
    "    },\n",
    "    \"Bronx\": {\n",
    "        \"COUNTYFIPS\": '36005',\n",
    "        \"boro_code\": '2',\n",
    "        \"boro_population\": 1_432_132,\n",
    "        \"boro_name\": \"Bronx\",\n",
    "    },\n",
    "    \"Brooklyn\": {\n",
    "        \"COUNTYFIPS\": '36047',\n",
    "        \"boro_code\": '3',\n",
    "        \"boro_population\": 2_582_830,\n",
    "        \"boro_name\": \"Brooklyn\",\n",
    "    },\n",
    "    \"Queens\": {\n",
    "        \"COUNTYFIPS\": '36081',\n",
    "        \"boro_code\": '4',\n",
    "        \"boro_population\": 2_278_906,\n",
    "        \"boro_name\": \"Queens\",\n",
    "    },\n",
    "    \"Staten Island\": {\n",
    "        \"COUNTYFIPS\": '36085',\n",
    "        \"boro_code\": '5',\n",
    "        \"boro_population\": 476_179,\n",
    "        \"boro_name\": \"Staten Island\",\n",
    "    },\n",
    "}"
   ]
  },
  {
   "cell_type": "code",
   "execution_count": 49,
   "metadata": {},
   "outputs": [
    {
     "data": {
      "text/plain": [
       "{'Manhattan': {'COUNTYFIPS': '36061',\n",
       "  'boro_code': '1',\n",
       "  'boro_population': 1628701,\n",
       "  'boro_name': 'Manhattan'},\n",
       " 'Bronx': {'COUNTYFIPS': '36005',\n",
       "  'boro_code': '2',\n",
       "  'boro_population': 1432132,\n",
       "  'boro_name': 'Bronx'},\n",
       " 'Brooklyn': {'COUNTYFIPS': '36047',\n",
       "  'boro_code': '3',\n",
       "  'boro_population': 2582830,\n",
       "  'boro_name': 'Brooklyn'},\n",
       " 'Queens': {'COUNTYFIPS': '36081',\n",
       "  'boro_code': '4',\n",
       "  'boro_population': 2278906,\n",
       "  'boro_name': 'Queens'},\n",
       " 'Staten Island': {'COUNTYFIPS': '36085',\n",
       "  'boro_code': '5',\n",
       "  'boro_population': 476179,\n",
       "  'boro_name': 'Staten Island'}}"
      ]
     },
     "execution_count": 49,
     "metadata": {},
     "output_type": "execute_result"
    }
   ],
   "source": [
    "boro_data"
   ]
  },
  {
   "cell_type": "code",
   "execution_count": 50,
   "metadata": {},
   "outputs": [],
   "source": [
    "boro_df_temp_no_transpose = pd.DataFrame(boro_data)"
   ]
  },
  {
   "cell_type": "code",
   "execution_count": 51,
   "metadata": {},
   "outputs": [
    {
     "data": {
      "text/html": [
       "<div>\n",
       "<style scoped>\n",
       "    .dataframe tbody tr th:only-of-type {\n",
       "        vertical-align: middle;\n",
       "    }\n",
       "\n",
       "    .dataframe tbody tr th {\n",
       "        vertical-align: top;\n",
       "    }\n",
       "\n",
       "    .dataframe thead th {\n",
       "        text-align: right;\n",
       "    }\n",
       "</style>\n",
       "<table border=\"1\" class=\"dataframe\">\n",
       "  <thead>\n",
       "    <tr style=\"text-align: right;\">\n",
       "      <th></th>\n",
       "      <th>Manhattan</th>\n",
       "      <th>Bronx</th>\n",
       "      <th>Brooklyn</th>\n",
       "      <th>Queens</th>\n",
       "      <th>Staten Island</th>\n",
       "    </tr>\n",
       "  </thead>\n",
       "  <tbody>\n",
       "    <tr>\n",
       "      <th>COUNTYFIPS</th>\n",
       "      <td>36061</td>\n",
       "      <td>36005</td>\n",
       "      <td>36047</td>\n",
       "      <td>36081</td>\n",
       "      <td>36085</td>\n",
       "    </tr>\n",
       "    <tr>\n",
       "      <th>boro_code</th>\n",
       "      <td>1</td>\n",
       "      <td>2</td>\n",
       "      <td>3</td>\n",
       "      <td>4</td>\n",
       "      <td>5</td>\n",
       "    </tr>\n",
       "    <tr>\n",
       "      <th>boro_population</th>\n",
       "      <td>1628701</td>\n",
       "      <td>1432132</td>\n",
       "      <td>2582830</td>\n",
       "      <td>2278906</td>\n",
       "      <td>476179</td>\n",
       "    </tr>\n",
       "    <tr>\n",
       "      <th>boro_name</th>\n",
       "      <td>Manhattan</td>\n",
       "      <td>Bronx</td>\n",
       "      <td>Brooklyn</td>\n",
       "      <td>Queens</td>\n",
       "      <td>Staten Island</td>\n",
       "    </tr>\n",
       "  </tbody>\n",
       "</table>\n",
       "</div>"
      ],
      "text/plain": [
       "                 Manhattan    Bronx  Brooklyn   Queens  Staten Island\n",
       "COUNTYFIPS           36061    36005     36047    36081          36085\n",
       "boro_code                1        2         3        4              5\n",
       "boro_population    1628701  1432132   2582830  2278906         476179\n",
       "boro_name        Manhattan    Bronx  Brooklyn   Queens  Staten Island"
      ]
     },
     "execution_count": 51,
     "metadata": {},
     "output_type": "execute_result"
    }
   ],
   "source": [
    "boro_df_temp_no_transpose"
   ]
  },
  {
   "cell_type": "code",
   "execution_count": 29,
   "metadata": {},
   "outputs": [],
   "source": [
    "# now with the transpose so the fields are in columns\n",
    "boro_df = pd.DataFrame(boro_data).T\n",
    "# run this block of code as-is to convert the Dictionary to a DataFrame\n",
    "# note the .T (transpose function), maybe try running with .T commented out\n",
    "# to see the difference, for the boro_df, we need to keep the .T code"
   ]
  },
  {
   "cell_type": "markdown",
   "metadata": {},
   "source": [
    "#### Let's check out `boro_df`"
   ]
  },
  {
   "cell_type": "code",
   "execution_count": 31,
   "metadata": {},
   "outputs": [
    {
     "data": {
      "text/html": [
       "<div>\n",
       "<style scoped>\n",
       "    .dataframe tbody tr th:only-of-type {\n",
       "        vertical-align: middle;\n",
       "    }\n",
       "\n",
       "    .dataframe tbody tr th {\n",
       "        vertical-align: top;\n",
       "    }\n",
       "\n",
       "    .dataframe thead th {\n",
       "        text-align: right;\n",
       "    }\n",
       "</style>\n",
       "<table border=\"1\" class=\"dataframe\">\n",
       "  <thead>\n",
       "    <tr style=\"text-align: right;\">\n",
       "      <th></th>\n",
       "      <th>COUNTYFIPS</th>\n",
       "      <th>boro_code</th>\n",
       "      <th>boro_population</th>\n",
       "      <th>boro_name</th>\n",
       "    </tr>\n",
       "  </thead>\n",
       "  <tbody>\n",
       "    <tr>\n",
       "      <th>Manhattan</th>\n",
       "      <td>36061</td>\n",
       "      <td>1</td>\n",
       "      <td>1628701</td>\n",
       "      <td>Manhattan</td>\n",
       "    </tr>\n",
       "    <tr>\n",
       "      <th>Bronx</th>\n",
       "      <td>36005</td>\n",
       "      <td>2</td>\n",
       "      <td>1432132</td>\n",
       "      <td>Bronx</td>\n",
       "    </tr>\n",
       "    <tr>\n",
       "      <th>Brooklyn</th>\n",
       "      <td>36047</td>\n",
       "      <td>3</td>\n",
       "      <td>2582830</td>\n",
       "      <td>Brooklyn</td>\n",
       "    </tr>\n",
       "    <tr>\n",
       "      <th>Queens</th>\n",
       "      <td>36081</td>\n",
       "      <td>4</td>\n",
       "      <td>2278906</td>\n",
       "      <td>Queens</td>\n",
       "    </tr>\n",
       "    <tr>\n",
       "      <th>Staten Island</th>\n",
       "      <td>36085</td>\n",
       "      <td>5</td>\n",
       "      <td>476179</td>\n",
       "      <td>Staten Island</td>\n",
       "    </tr>\n",
       "  </tbody>\n",
       "</table>\n",
       "</div>"
      ],
      "text/plain": [
       "              COUNTYFIPS boro_code boro_population      boro_name\n",
       "Manhattan          36061         1         1628701      Manhattan\n",
       "Bronx              36005         2         1432132          Bronx\n",
       "Brooklyn           36047         3         2582830       Brooklyn\n",
       "Queens             36081         4         2278906         Queens\n",
       "Staten Island      36085         5          476179  Staten Island"
      ]
     },
     "execution_count": 31,
     "metadata": {},
     "output_type": "execute_result"
    }
   ],
   "source": [
    "boro_df  # done ok"
   ]
  },
  {
   "cell_type": "code",
   "execution_count": 50,
   "metadata": {},
   "outputs": [
    {
     "data": {
      "text/plain": [
       "numpy.ndarray"
      ]
     },
     "execution_count": 50,
     "metadata": {},
     "output_type": "execute_result"
    }
   ],
   "source": [
    "# Roger trying different choices offered (methods?) by hitting TAB \n",
    "# -----------------\n",
    "# boro_df.describe  # runs ok.  display's the table \n",
    "\n",
    "# print(boro_df.values) # turns the table into numpy.ndarray which looks like a list of lists\n",
    "#   type(boro_df.values)\n",
    "\n",
    "# boro_df.boxplot  # runs ok.  display's the table\n",
    "\n",
    "#  boro_df.boro_population  # runs ok.  gets you the boro names as an index and a column of population figures\n",
    "#  popl_by_boro = boro_df.boro_population  Try assigning to a variable \n",
    "\n",
    "# popl_by_boro\n",
    "# Manhattan        1628701\n",
    "# Bronx            1432132\n",
    "# Brooklyn         2582830\n",
    "# Queens           2278906\n",
    "# Staten Island     476179\n",
    "# Name: boro_population, dtype: object\n",
    "\n",
    "# type(popl_by_boro)\n",
    "# pandas.core.series.Series\n",
    "\n",
    "# boro_df.plot()  # plots population in a line graph.  X axis for boros, Y for pop\n",
    "\n",
    "# boro_df.sum() # list each column (series?) and give math sums or concatinations of each, so:\n",
    "# COUNTYFIPS                         3606136005360473608136085\n",
    "# boro_code                                              12345\n",
    "# boro_population                                      8398748\n",
    "# boro_name          ManhattanBronxBrooklynQueensStaten Island\n",
    "# dtype: object\n",
    "\n",
    "# your code here\n",
    "# your code here"
   ]
  },
  {
   "cell_type": "code",
   "execution_count": null,
   "metadata": {},
   "outputs": [],
   "source": [
    "boro_df."
   ]
  },
  {
   "cell_type": "markdown",
   "metadata": {},
   "source": [
    "#### Run a `.merge()` to add the `boro_df` data to the `nyc_hospitals` GeoDataFrame"
   ]
  },
  {
   "cell_type": "code",
   "execution_count": 51,
   "metadata": {},
   "outputs": [],
   "source": [
    "# Original, unaltered\n",
    "df = pd.merge(\n",
    "    left=nyc_hospitals,   # our hospitals geodataframe\n",
    "    right=boro_df,  # our boro dictionary dataframe variable name\n",
    "    on='COUNTYFIPS',  # the common field to merge/join these tables. \n",
    "    how='left',  # left-join, leave this line of code as-is\n",
    ")  "
   ]
  },
  {
   "cell_type": "code",
   "execution_count": 52,
   "metadata": {},
   "outputs": [
    {
     "data": {
      "text/html": [
       "<div>\n",
       "<style scoped>\n",
       "    .dataframe tbody tr th:only-of-type {\n",
       "        vertical-align: middle;\n",
       "    }\n",
       "\n",
       "    .dataframe tbody tr th {\n",
       "        vertical-align: top;\n",
       "    }\n",
       "\n",
       "    .dataframe thead th {\n",
       "        text-align: right;\n",
       "    }\n",
       "</style>\n",
       "<table border=\"1\" class=\"dataframe\">\n",
       "  <thead>\n",
       "    <tr style=\"text-align: right;\">\n",
       "      <th></th>\n",
       "      <th>OBJECTID</th>\n",
       "      <th>ID</th>\n",
       "      <th>NAME</th>\n",
       "      <th>ADDRESS</th>\n",
       "      <th>CITY</th>\n",
       "      <th>STATE</th>\n",
       "      <th>ZIP</th>\n",
       "      <th>ZIP4</th>\n",
       "      <th>TELEPHONE</th>\n",
       "      <th>TYPE</th>\n",
       "      <th>...</th>\n",
       "      <th>ST_FIPS</th>\n",
       "      <th>OWNER</th>\n",
       "      <th>TTL_STAFF</th>\n",
       "      <th>BEDS</th>\n",
       "      <th>TRAUMA</th>\n",
       "      <th>HELIPAD</th>\n",
       "      <th>geometry</th>\n",
       "      <th>boro_code</th>\n",
       "      <th>boro_population</th>\n",
       "      <th>boro_name</th>\n",
       "    </tr>\n",
       "  </thead>\n",
       "  <tbody>\n",
       "    <tr>\n",
       "      <th>0</th>\n",
       "      <td>6256</td>\n",
       "      <td>0019010044</td>\n",
       "      <td>COLER-GOLDWATER SPECIALTY HOSPITAL &amp; NURSING F...</td>\n",
       "      <td>900 MAIN STREET ROOSEVELT ISLAND</td>\n",
       "      <td>NEW YORK</td>\n",
       "      <td>NY</td>\n",
       "      <td>10044</td>\n",
       "      <td>NOT AVAILABLE</td>\n",
       "      <td>(212) 848-6000</td>\n",
       "      <td>LONG TERM CARE</td>\n",
       "      <td>...</td>\n",
       "      <td>36</td>\n",
       "      <td>GOVERNMENT - LOCAL</td>\n",
       "      <td>-999</td>\n",
       "      <td>210.0</td>\n",
       "      <td>NOT AVAILABLE</td>\n",
       "      <td>N</td>\n",
       "      <td>POINT (-73.94214 40.77030)</td>\n",
       "      <td>1</td>\n",
       "      <td>1628701</td>\n",
       "      <td>Manhattan</td>\n",
       "    </tr>\n",
       "    <tr>\n",
       "      <th>1</th>\n",
       "      <td>6810</td>\n",
       "      <td>0015710451</td>\n",
       "      <td>LINCOLN HOSPITAL</td>\n",
       "      <td>234 E 149TH ST</td>\n",
       "      <td>BRONX</td>\n",
       "      <td>NY</td>\n",
       "      <td>10451</td>\n",
       "      <td>NOT AVAILABLE</td>\n",
       "      <td>(212) 579-4900</td>\n",
       "      <td>GENERAL ACUTE CARE</td>\n",
       "      <td>...</td>\n",
       "      <td>36</td>\n",
       "      <td>GOVERNMENT - LOCAL</td>\n",
       "      <td>-999</td>\n",
       "      <td>362.0</td>\n",
       "      <td>LEVEL I</td>\n",
       "      <td>N</td>\n",
       "      <td>POINT (-73.92438 40.81717)</td>\n",
       "      <td>2</td>\n",
       "      <td>1432132</td>\n",
       "      <td>Bronx</td>\n",
       "    </tr>\n",
       "    <tr>\n",
       "      <th>2</th>\n",
       "      <td>4154</td>\n",
       "      <td>0018910021</td>\n",
       "      <td>GRACIE SQUARE HOSPITAL</td>\n",
       "      <td>420 E 76TH ST, 2ND, 3RD, 4TH &amp; 5TH FLOORS</td>\n",
       "      <td>NEW YORK</td>\n",
       "      <td>NY</td>\n",
       "      <td>10021</td>\n",
       "      <td>NOT AVAILABLE</td>\n",
       "      <td>(212) 988-4400</td>\n",
       "      <td>PSYCHIATRIC</td>\n",
       "      <td>...</td>\n",
       "      <td>36</td>\n",
       "      <td>NON-PROFIT</td>\n",
       "      <td>-999</td>\n",
       "      <td>157.0</td>\n",
       "      <td>NOT AVAILABLE</td>\n",
       "      <td>N</td>\n",
       "      <td>POINT (-73.95302 40.76972)</td>\n",
       "      <td>1</td>\n",
       "      <td>1628701</td>\n",
       "      <td>Manhattan</td>\n",
       "    </tr>\n",
       "  </tbody>\n",
       "</table>\n",
       "<p>3 rows × 36 columns</p>\n",
       "</div>"
      ],
      "text/plain": [
       "   OBJECTID          ID                                               NAME  \\\n",
       "0      6256  0019010044  COLER-GOLDWATER SPECIALTY HOSPITAL & NURSING F...   \n",
       "1      6810  0015710451                                   LINCOLN HOSPITAL   \n",
       "2      4154  0018910021                             GRACIE SQUARE HOSPITAL   \n",
       "\n",
       "                                     ADDRESS      CITY STATE    ZIP  \\\n",
       "0           900 MAIN STREET ROOSEVELT ISLAND  NEW YORK    NY  10044   \n",
       "1                             234 E 149TH ST     BRONX    NY  10451   \n",
       "2  420 E 76TH ST, 2ND, 3RD, 4TH & 5TH FLOORS  NEW YORK    NY  10021   \n",
       "\n",
       "            ZIP4       TELEPHONE                TYPE  ... ST_FIPS  \\\n",
       "0  NOT AVAILABLE  (212) 848-6000      LONG TERM CARE  ...      36   \n",
       "1  NOT AVAILABLE  (212) 579-4900  GENERAL ACUTE CARE  ...      36   \n",
       "2  NOT AVAILABLE  (212) 988-4400         PSYCHIATRIC  ...      36   \n",
       "\n",
       "                OWNER TTL_STAFF   BEDS         TRAUMA  HELIPAD  \\\n",
       "0  GOVERNMENT - LOCAL      -999  210.0  NOT AVAILABLE        N   \n",
       "1  GOVERNMENT - LOCAL      -999  362.0        LEVEL I        N   \n",
       "2          NON-PROFIT      -999  157.0  NOT AVAILABLE        N   \n",
       "\n",
       "                     geometry boro_code boro_population  boro_name  \n",
       "0  POINT (-73.94214 40.77030)         1         1628701  Manhattan  \n",
       "1  POINT (-73.92438 40.81717)         2         1432132      Bronx  \n",
       "2  POINT (-73.95302 40.76972)         1         1628701  Manhattan  \n",
       "\n",
       "[3 rows x 36 columns]"
      ]
     },
     "execution_count": 52,
     "metadata": {},
     "output_type": "execute_result"
    }
   ],
   "source": [
    "# done, ok\n",
    "# review result\n",
    "df.head(3)"
   ]
  },
  {
   "cell_type": "code",
   "execution_count": 53,
   "metadata": {},
   "outputs": [],
   "source": [
    "df  = df[[\n",
    "    'geometry',\n",
    "    'COUNTYFIPS',\n",
    "    'boro_code',\n",
    "    'boro_name',\n",
    "    'BEDS',\n",
    "    'boro_population',\n",
    "]]  \n",
    "# run this block of code to get a reduced set of columns\n",
    "# it gives you all the hospitals, but with fewer columns of data."
   ]
  },
  {
   "cell_type": "markdown",
   "metadata": {},
   "source": [
    "#### Display the first 10 rows of the GeoDataFrame `.head(... hint, n=)`"
   ]
  },
  {
   "cell_type": "code",
   "execution_count": 56,
   "metadata": {},
   "outputs": [
    {
     "data": {
      "text/html": [
       "<div>\n",
       "<style scoped>\n",
       "    .dataframe tbody tr th:only-of-type {\n",
       "        vertical-align: middle;\n",
       "    }\n",
       "\n",
       "    .dataframe tbody tr th {\n",
       "        vertical-align: top;\n",
       "    }\n",
       "\n",
       "    .dataframe thead th {\n",
       "        text-align: right;\n",
       "    }\n",
       "</style>\n",
       "<table border=\"1\" class=\"dataframe\">\n",
       "  <thead>\n",
       "    <tr style=\"text-align: right;\">\n",
       "      <th></th>\n",
       "      <th>geometry</th>\n",
       "      <th>COUNTYFIPS</th>\n",
       "      <th>boro_code</th>\n",
       "      <th>boro_name</th>\n",
       "      <th>BEDS</th>\n",
       "      <th>boro_population</th>\n",
       "    </tr>\n",
       "  </thead>\n",
       "  <tbody>\n",
       "    <tr>\n",
       "      <th>0</th>\n",
       "      <td>POINT (-73.94214 40.77030)</td>\n",
       "      <td>36061</td>\n",
       "      <td>1</td>\n",
       "      <td>Manhattan</td>\n",
       "      <td>210.0</td>\n",
       "      <td>1628701</td>\n",
       "    </tr>\n",
       "    <tr>\n",
       "      <th>1</th>\n",
       "      <td>POINT (-73.92438 40.81717)</td>\n",
       "      <td>36005</td>\n",
       "      <td>2</td>\n",
       "      <td>Bronx</td>\n",
       "      <td>362.0</td>\n",
       "      <td>1432132</td>\n",
       "    </tr>\n",
       "    <tr>\n",
       "      <th>2</th>\n",
       "      <td>POINT (-73.95302 40.76972)</td>\n",
       "      <td>36061</td>\n",
       "      <td>1</td>\n",
       "      <td>Manhattan</td>\n",
       "      <td>157.0</td>\n",
       "      <td>1628701</td>\n",
       "    </tr>\n",
       "  </tbody>\n",
       "</table>\n",
       "</div>"
      ],
      "text/plain": [
       "                     geometry COUNTYFIPS boro_code  boro_name   BEDS  \\\n",
       "0  POINT (-73.94214 40.77030)      36061         1  Manhattan  210.0   \n",
       "1  POINT (-73.92438 40.81717)      36005         2      Bronx  362.0   \n",
       "2  POINT (-73.95302 40.76972)      36061         1  Manhattan  157.0   \n",
       "\n",
       "  boro_population  \n",
       "0         1628701  \n",
       "1         1432132  \n",
       "2         1628701  "
      ]
     },
     "execution_count": 56,
     "metadata": {},
     "output_type": "execute_result"
    }
   ],
   "source": [
    "# done, ok\n",
    "df.head(3)\n"
   ]
  },
  {
   "cell_type": "markdown",
   "metadata": {},
   "source": [
    "#### Groupby and Sum the BEDS variable\n",
    "\n",
    "Groupby: \n",
    "* boro_name\n",
    "* COUNTYFIPS\t\n",
    "* boro_code\t\n",
    "* boro_population"
   ]
  },
  {
   "cell_type": "code",
   "execution_count": 95,
   "metadata": {},
   "outputs": [
    {
     "data": {
      "text/html": [
       "<div>\n",
       "<style scoped>\n",
       "    .dataframe tbody tr th:only-of-type {\n",
       "        vertical-align: middle;\n",
       "    }\n",
       "\n",
       "    .dataframe tbody tr th {\n",
       "        vertical-align: top;\n",
       "    }\n",
       "\n",
       "    .dataframe thead th {\n",
       "        text-align: right;\n",
       "    }\n",
       "</style>\n",
       "<table border=\"1\" class=\"dataframe\">\n",
       "  <thead>\n",
       "    <tr style=\"text-align: right;\">\n",
       "      <th></th>\n",
       "      <th></th>\n",
       "      <th></th>\n",
       "      <th></th>\n",
       "      <th>BEDS</th>\n",
       "    </tr>\n",
       "    <tr>\n",
       "      <th>boro_name</th>\n",
       "      <th>COUNTYFIPS</th>\n",
       "      <th>boro_code</th>\n",
       "      <th>boro_population</th>\n",
       "      <th></th>\n",
       "    </tr>\n",
       "  </thead>\n",
       "  <tbody>\n",
       "    <tr>\n",
       "      <th>Bronx</th>\n",
       "      <th>36005</th>\n",
       "      <th>2</th>\n",
       "      <th>1432132</th>\n",
       "      <td>3822.0</td>\n",
       "    </tr>\n",
       "    <tr>\n",
       "      <th>Brooklyn</th>\n",
       "      <th>36047</th>\n",
       "      <th>3</th>\n",
       "      <th>2582830</th>\n",
       "      <td>6166.0</td>\n",
       "    </tr>\n",
       "    <tr>\n",
       "      <th>Manhattan</th>\n",
       "      <th>36061</th>\n",
       "      <th>1</th>\n",
       "      <th>1628701</th>\n",
       "      <td>11052.0</td>\n",
       "    </tr>\n",
       "    <tr>\n",
       "      <th>Queens</th>\n",
       "      <th>36081</th>\n",
       "      <th>4</th>\n",
       "      <th>2278906</th>\n",
       "      <td>3734.0</td>\n",
       "    </tr>\n",
       "    <tr>\n",
       "      <th>Staten Island</th>\n",
       "      <th>36085</th>\n",
       "      <th>5</th>\n",
       "      <th>476179</th>\n",
       "      <td>1187.0</td>\n",
       "    </tr>\n",
       "  </tbody>\n",
       "</table>\n",
       "</div>"
      ],
      "text/plain": [
       "                                                       BEDS\n",
       "boro_name     COUNTYFIPS boro_code boro_population         \n",
       "Bronx         36005      2         1432132           3822.0\n",
       "Brooklyn      36047      3         2582830           6166.0\n",
       "Manhattan     36061      1         1628701          11052.0\n",
       "Queens        36081      4         2278906           3734.0\n",
       "Staten Island 36085      5         476179            1187.0"
      ]
     },
     "execution_count": 95,
     "metadata": {},
     "output_type": "execute_result"
    }
   ],
   "source": [
    "# done, ok\n",
    "\n",
    "# df[['boro_name', 'COUNTYFIPS', 'boro_code','BEDS']].groupby(['boro_name','COUNTYFIPS']).sum()    functional but commented\n",
    "df[['boro_name', 'COUNTYFIPS', 'boro_code','boro_population','BEDS']].groupby(['boro_name','COUNTYFIPS','boro_code','boro_population']).sum() \n",
    "\n",
    "# How did it know I wanted to sum BEDS and not 'boro_population', which was also listed?"
   ]
  },
  {
   "cell_type": "markdown",
   "metadata": {},
   "source": [
    "#### Display the `.head()` of `grouped`"
   ]
  },
  {
   "cell_type": "code",
   "execution_count": 57,
   "metadata": {},
   "outputs": [
    {
     "data": {
      "text/html": [
       "<div>\n",
       "<style scoped>\n",
       "    .dataframe tbody tr th:only-of-type {\n",
       "        vertical-align: middle;\n",
       "    }\n",
       "\n",
       "    .dataframe tbody tr th {\n",
       "        vertical-align: top;\n",
       "    }\n",
       "\n",
       "    .dataframe thead th {\n",
       "        text-align: right;\n",
       "    }\n",
       "</style>\n",
       "<table border=\"1\" class=\"dataframe\">\n",
       "  <thead>\n",
       "    <tr style=\"text-align: right;\">\n",
       "      <th></th>\n",
       "      <th></th>\n",
       "      <th></th>\n",
       "      <th></th>\n",
       "      <th>BEDS</th>\n",
       "    </tr>\n",
       "    <tr>\n",
       "      <th>boro_name</th>\n",
       "      <th>COUNTYFIPS</th>\n",
       "      <th>boro_code</th>\n",
       "      <th>boro_population</th>\n",
       "      <th></th>\n",
       "    </tr>\n",
       "  </thead>\n",
       "  <tbody>\n",
       "    <tr>\n",
       "      <th>Bronx</th>\n",
       "      <th>36005</th>\n",
       "      <th>2</th>\n",
       "      <th>1432132</th>\n",
       "      <td>3822.0</td>\n",
       "    </tr>\n",
       "    <tr>\n",
       "      <th>Brooklyn</th>\n",
       "      <th>36047</th>\n",
       "      <th>3</th>\n",
       "      <th>2582830</th>\n",
       "      <td>6166.0</td>\n",
       "    </tr>\n",
       "    <tr>\n",
       "      <th>Manhattan</th>\n",
       "      <th>36061</th>\n",
       "      <th>1</th>\n",
       "      <th>1628701</th>\n",
       "      <td>11052.0</td>\n",
       "    </tr>\n",
       "  </tbody>\n",
       "</table>\n",
       "</div>"
      ],
      "text/plain": [
       "                                                   BEDS\n",
       "boro_name COUNTYFIPS boro_code boro_population         \n",
       "Bronx     36005      2         1432132           3822.0\n",
       "Brooklyn  36047      3         2582830           6166.0\n",
       "Manhattan 36061      1         1628701          11052.0"
      ]
     },
     "execution_count": 57,
     "metadata": {},
     "output_type": "execute_result"
    }
   ],
   "source": [
    "# Display heads.  Done. The head command is at the end of the line of code\n",
    "df[['boro_name', 'COUNTYFIPS', 'boro_code','boro_population','BEDS']].groupby(['boro_name','COUNTYFIPS','boro_code','boro_population']).sum().head(3)\n"
   ]
  },
  {
   "cell_type": "code",
   "execution_count": 64,
   "metadata": {},
   "outputs": [
    {
     "data": {
      "text/html": [
       "<div>\n",
       "<style scoped>\n",
       "    .dataframe tbody tr th:only-of-type {\n",
       "        vertical-align: middle;\n",
       "    }\n",
       "\n",
       "    .dataframe tbody tr th {\n",
       "        vertical-align: top;\n",
       "    }\n",
       "\n",
       "    .dataframe thead th {\n",
       "        text-align: right;\n",
       "    }\n",
       "</style>\n",
       "<table border=\"1\" class=\"dataframe\">\n",
       "  <thead>\n",
       "    <tr style=\"text-align: right;\">\n",
       "      <th></th>\n",
       "      <th></th>\n",
       "      <th></th>\n",
       "      <th></th>\n",
       "      <th>BEDS</th>\n",
       "    </tr>\n",
       "    <tr>\n",
       "      <th>boro_name</th>\n",
       "      <th>COUNTYFIPS</th>\n",
       "      <th>boro_code</th>\n",
       "      <th>boro_population</th>\n",
       "      <th></th>\n",
       "    </tr>\n",
       "  </thead>\n",
       "  <tbody>\n",
       "    <tr>\n",
       "      <th>Bronx</th>\n",
       "      <th>36005</th>\n",
       "      <th>2</th>\n",
       "      <th>1432132</th>\n",
       "      <td>3822.0</td>\n",
       "    </tr>\n",
       "    <tr>\n",
       "      <th>Brooklyn</th>\n",
       "      <th>36047</th>\n",
       "      <th>3</th>\n",
       "      <th>2582830</th>\n",
       "      <td>6166.0</td>\n",
       "    </tr>\n",
       "    <tr>\n",
       "      <th>Manhattan</th>\n",
       "      <th>36061</th>\n",
       "      <th>1</th>\n",
       "      <th>1628701</th>\n",
       "      <td>11052.0</td>\n",
       "    </tr>\n",
       "    <tr>\n",
       "      <th>Queens</th>\n",
       "      <th>36081</th>\n",
       "      <th>4</th>\n",
       "      <th>2278906</th>\n",
       "      <td>3734.0</td>\n",
       "    </tr>\n",
       "    <tr>\n",
       "      <th>Staten Island</th>\n",
       "      <th>36085</th>\n",
       "      <th>5</th>\n",
       "      <th>476179</th>\n",
       "      <td>1187.0</td>\n",
       "    </tr>\n",
       "  </tbody>\n",
       "</table>\n",
       "</div>"
      ],
      "text/plain": [
       "                                                       BEDS\n",
       "boro_name     COUNTYFIPS boro_code boro_population         \n",
       "Bronx         36005      2         1432132           3822.0\n",
       "Brooklyn      36047      3         2582830           6166.0\n",
       "Manhattan     36061      1         1628701          11052.0\n",
       "Queens        36081      4         2278906           3734.0\n",
       "Staten Island 36085      5         476179            1187.0"
      ]
     },
     "execution_count": 64,
     "metadata": {},
     "output_type": "execute_result"
    }
   ],
   "source": [
    "# try turning the table of the groupings into an object.  Does NOT work.  There is no BEDS column in df_grouped.\n",
    "df_grouped=df[['boro_name', 'COUNTYFIPS', 'boro_code','boro_population','BEDS']].groupby(['boro_name','COUNTYFIPS','boro_code','boro_population']).sum()\n",
    "\n",
    "df_grouped"
   ]
  },
  {
   "cell_type": "code",
   "execution_count": 68,
   "metadata": {},
   "outputs": [
    {
     "ename": "NameError",
     "evalue": "name 'BEDS' is not defined",
     "output_type": "error",
     "traceback": [
      "\u001b[1;31m---------------------------------------------------------------------------\u001b[0m",
      "\u001b[1;31mNameError\u001b[0m                                 Traceback (most recent call last)",
      "\u001b[1;32m<ipython-input-68-72a925077515>\u001b[0m in \u001b[0;36m<module>\u001b[1;34m\u001b[0m\n\u001b[1;32m----> 1\u001b[1;33m \u001b[0mdf_grouped\u001b[0m\u001b[1;33m[\u001b[0m\u001b[0mBEDS\u001b[0m\u001b[1;33m]\u001b[0m\u001b[1;33m\u001b[0m\u001b[1;33m\u001b[0m\u001b[0m\n\u001b[0m",
      "\u001b[1;31mNameError\u001b[0m: name 'BEDS' is not defined"
     ]
    }
   ],
   "source": [
    "df_grouped[BEDS] "
   ]
  },
  {
   "cell_type": "markdown",
   "metadata": {},
   "source": [
    "#### Create a new column called `boro_pop_per_hosp_bed`. \n",
    "\n",
    "Remember from Lesson 04 where we generate the `df['BEDS_newcol'] = ` code. \n",
    "it looked like this in lesson 04:\n",
    "df['BEDS_newcol'] = np.where(\n",
    "    df['BEDS'] == -999,\n",
    "    np.nan,  \n",
    "    df['BEDS']\n",
    ")\n",
    "\n",
    "#### This column will be the Calculation of Population / Beds  ( / meaning divided by)"
   ]
  },
  {
   "cell_type": "code",
   "execution_count": null,
   "metadata": {},
   "outputs": [],
   "source": []
  },
  {
   "cell_type": "code",
   "execution_count": 100,
   "metadata": {},
   "outputs": [],
   "source": [
    "#  Roger comment: \n",
    "#  This is as far as I got.  I wasn't able to add a column to my grouped table, if \n",
    "#  table it is.  The BEDS and popl_per_bed columns don't look or act like columns. \n",
    "# Plan: \n",
    "# Add a column to the grouped table: popl_per_bed\n",
    "# assign the popl/bed values to the new col\n",
    "\n",
    "# Then I insert a column, God willing.\n",
    "df_grouped['popl_per_bed'] = [1,2,3,4,5]\n"
   ]
  },
  {
   "cell_type": "code",
   "execution_count": 101,
   "metadata": {
    "scrolled": true
   },
   "outputs": [
    {
     "data": {
      "text/html": [
       "<div>\n",
       "<style scoped>\n",
       "    .dataframe tbody tr th:only-of-type {\n",
       "        vertical-align: middle;\n",
       "    }\n",
       "\n",
       "    .dataframe tbody tr th {\n",
       "        vertical-align: top;\n",
       "    }\n",
       "\n",
       "    .dataframe thead th {\n",
       "        text-align: right;\n",
       "    }\n",
       "</style>\n",
       "<table border=\"1\" class=\"dataframe\">\n",
       "  <thead>\n",
       "    <tr style=\"text-align: right;\">\n",
       "      <th></th>\n",
       "      <th></th>\n",
       "      <th></th>\n",
       "      <th></th>\n",
       "      <th>BEDS</th>\n",
       "      <th>popl_per_bed</th>\n",
       "    </tr>\n",
       "    <tr>\n",
       "      <th>boro_name</th>\n",
       "      <th>COUNTYFIPS</th>\n",
       "      <th>boro_code</th>\n",
       "      <th>boro_population</th>\n",
       "      <th></th>\n",
       "      <th></th>\n",
       "    </tr>\n",
       "  </thead>\n",
       "  <tbody>\n",
       "    <tr>\n",
       "      <th>Bronx</th>\n",
       "      <th>36005</th>\n",
       "      <th>2</th>\n",
       "      <th>1432132</th>\n",
       "      <td>3822.0</td>\n",
       "      <td>374.707483</td>\n",
       "    </tr>\n",
       "    <tr>\n",
       "      <th>Brooklyn</th>\n",
       "      <th>36047</th>\n",
       "      <th>3</th>\n",
       "      <th>2582830</th>\n",
       "      <td>6166.0</td>\n",
       "      <td>418.882582</td>\n",
       "    </tr>\n",
       "    <tr>\n",
       "      <th>Manhattan</th>\n",
       "      <th>36061</th>\n",
       "      <th>1</th>\n",
       "      <th>1628701</th>\n",
       "      <td>11052.0</td>\n",
       "      <td>147.367083</td>\n",
       "    </tr>\n",
       "    <tr>\n",
       "      <th>Queens</th>\n",
       "      <th>36081</th>\n",
       "      <th>4</th>\n",
       "      <th>2278906</th>\n",
       "      <td>3734.0</td>\n",
       "      <td>610.312266</td>\n",
       "    </tr>\n",
       "    <tr>\n",
       "      <th>Staten Island</th>\n",
       "      <th>36085</th>\n",
       "      <th>5</th>\n",
       "      <th>476179</th>\n",
       "      <td>1187.0</td>\n",
       "      <td>401.161752</td>\n",
       "    </tr>\n",
       "  </tbody>\n",
       "</table>\n",
       "</div>"
      ],
      "text/plain": [
       "                                                       BEDS  popl_per_bed\n",
       "boro_name     COUNTYFIPS boro_code boro_population                       \n",
       "Bronx         36005      2         1432132           3822.0    374.707483\n",
       "Brooklyn      36047      3         2582830           6166.0    418.882582\n",
       "Manhattan     36061      1         1628701          11052.0    147.367083\n",
       "Queens        36081      4         2278906           3734.0    610.312266\n",
       "Staten Island 36085      5         476179            1187.0    401.161752"
      ]
     },
     "execution_count": 101,
     "metadata": {},
     "output_type": "execute_result"
    }
   ],
   "source": [
    "# Roger: Checking out my failed attempt.\n",
    "# The BEDS and popl_per_bed columns don't look or act like columns. \n",
    "df_grouped"
   ]
  },
  {
   "cell_type": "code",
   "execution_count": 96,
   "metadata": {
    "scrolled": true
   },
   "outputs": [
    {
     "ename": "NameError",
     "evalue": "name 'args' is not defined",
     "output_type": "error",
     "traceback": [
      "\u001b[1;31m---------------------------------------------------------------------------\u001b[0m",
      "\u001b[1;31mNameError\u001b[0m                                 Traceback (most recent call last)",
      "\u001b[1;32m<ipython-input-96-796c660ba88c>\u001b[0m in \u001b[0;36m<module>\u001b[1;34m\u001b[0m\n\u001b[0;32m      1\u001b[0m \u001b[1;31m# Alternative attempt, adding an empty column to the df data frame before\u001b[0m\u001b[1;33m\u001b[0m\u001b[1;33m\u001b[0m\u001b[1;33m\u001b[0m\u001b[0m\n\u001b[0;32m      2\u001b[0m \u001b[1;31m# I group it.\u001b[0m\u001b[1;33m\u001b[0m\u001b[1;33m\u001b[0m\u001b[1;33m\u001b[0m\u001b[0m\n\u001b[1;32m----> 3\u001b[1;33m \u001b[0mdf\u001b[0m\u001b[1;33m[\u001b[0m\u001b[1;34m'popl_per_bed'\u001b[0m\u001b[1;33m]\u001b[0m \u001b[1;33m=\u001b[0m \u001b[1;33m[\u001b[0m\u001b[1;33m*\u001b[0m\u001b[0margs\u001b[0m\u001b[1;33m]\u001b[0m\u001b[1;33m\u001b[0m\u001b[1;33m\u001b[0m\u001b[0m\n\u001b[0m",
      "\u001b[1;31mNameError\u001b[0m: name 'args' is not defined"
     ]
    }
   ],
   "source": [
    "# Alternative attempt, adding an empty column to the df data frame before\n",
    "# I group it.\n",
    "# Failed.  It needs to be populated with a list as long as the table itself.\n",
    "df['popl_per_bed'] = [1]\n",
    "\n",
    "[1432132/3822.0, 2582830/6166.0, 1628701/11052.0, 2278906/3734.0, 476179/1187.0]  \n"
   ]
  },
  {
   "cell_type": "code",
   "execution_count": 106,
   "metadata": {
    "scrolled": true
   },
   "outputs": [
    {
     "ename": "SyntaxError",
     "evalue": "(unicode error) 'unicodeescape' codec can't decode bytes in position 2-3: truncated \\UXXXXXXXX escape (<ipython-input-106-793a33d2d2cd>, line 5)",
     "output_type": "error",
     "traceback": [
      "\u001b[1;36m  File \u001b[1;32m\"<ipython-input-106-793a33d2d2cd>\"\u001b[1;36m, line \u001b[1;32m5\u001b[0m\n\u001b[1;33m    Pop_per_bed_df = pd.read_csv('C:\\Users\\Roger Helms\\Documents\\GitHub\\popl_per_bed.csv')\u001b[0m\n\u001b[1;37m                                 ^\u001b[0m\n\u001b[1;31mSyntaxError\u001b[0m\u001b[1;31m:\u001b[0m (unicode error) 'unicodeescape' codec can't decode bytes in position 2-3: truncated \\UXXXXXXXX escape\n"
     ]
    }
   ],
   "source": [
    "# Roger's attempt to manually create a table with the population per bed.\n",
    "# step 1: create a CSV of the data and save it to:\n",
    "# C:\\Users\\Roger Helms\\Documents\\GitHub\\popl_per_bed.csv\n",
    "# step 2: (fails due to invalid syntax. )  \n",
    "Pop_per_bed_df = pd.read_csv('C:\\Users\\Roger Helms\\Documents\\GitHub\\popl_per_bed.csv') "
   ]
  },
  {
   "cell_type": "code",
   "execution_count": 111,
   "metadata": {},
   "outputs": [
    {
     "ename": "ParserError",
     "evalue": "Error tokenizing data. C error: Expected 1 fields in line 20, saw 2\n",
     "output_type": "error",
     "traceback": [
      "\u001b[1;31m---------------------------------------------------------------------------\u001b[0m",
      "\u001b[1;31mParserError\u001b[0m                               Traceback (most recent call last)",
      "\u001b[1;32m<ipython-input-111-fbd0e223c24a>\u001b[0m in \u001b[0;36m<module>\u001b[1;34m\u001b[0m\n\u001b[0;32m      2\u001b[0m \u001b[0mcsv_url\u001b[0m\u001b[1;33m=\u001b[0m \u001b[1;34m'https://mapsynch.maps.arcgis.com/home/item.html?id=01e080ea163643fa8e2436cbd0bc1aa9'\u001b[0m\u001b[1;33m\u001b[0m\u001b[1;33m\u001b[0m\u001b[0m\n\u001b[0;32m      3\u001b[0m \u001b[1;31m# pd.read_csv fails with invalid syntax\u001b[0m\u001b[1;33m\u001b[0m\u001b[1;33m\u001b[0m\u001b[1;33m\u001b[0m\u001b[0m\n\u001b[1;32m----> 4\u001b[1;33m \u001b[0mPop_per_bed_df\u001b[0m \u001b[1;33m=\u001b[0m \u001b[0mpd\u001b[0m\u001b[1;33m.\u001b[0m\u001b[0mread_csv\u001b[0m\u001b[1;33m(\u001b[0m\u001b[0mcsv_url\u001b[0m\u001b[1;33m)\u001b[0m\u001b[1;33m\u001b[0m\u001b[1;33m\u001b[0m\u001b[0m\n\u001b[0m",
      "\u001b[1;32m~\\anaconda3\\envs\\savi\\lib\\site-packages\\pandas\\io\\parsers.py\u001b[0m in \u001b[0;36mparser_f\u001b[1;34m(filepath_or_buffer, sep, delimiter, header, names, index_col, usecols, squeeze, prefix, mangle_dupe_cols, dtype, engine, converters, true_values, false_values, skipinitialspace, skiprows, skipfooter, nrows, na_values, keep_default_na, na_filter, verbose, skip_blank_lines, parse_dates, infer_datetime_format, keep_date_col, date_parser, dayfirst, cache_dates, iterator, chunksize, compression, thousands, decimal, lineterminator, quotechar, quoting, doublequote, escapechar, comment, encoding, dialect, error_bad_lines, warn_bad_lines, delim_whitespace, low_memory, memory_map, float_precision)\u001b[0m\n\u001b[0;32m    674\u001b[0m         )\n\u001b[0;32m    675\u001b[0m \u001b[1;33m\u001b[0m\u001b[0m\n\u001b[1;32m--> 676\u001b[1;33m         \u001b[1;32mreturn\u001b[0m \u001b[0m_read\u001b[0m\u001b[1;33m(\u001b[0m\u001b[0mfilepath_or_buffer\u001b[0m\u001b[1;33m,\u001b[0m \u001b[0mkwds\u001b[0m\u001b[1;33m)\u001b[0m\u001b[1;33m\u001b[0m\u001b[1;33m\u001b[0m\u001b[0m\n\u001b[0m\u001b[0;32m    677\u001b[0m \u001b[1;33m\u001b[0m\u001b[0m\n\u001b[0;32m    678\u001b[0m     \u001b[0mparser_f\u001b[0m\u001b[1;33m.\u001b[0m\u001b[0m__name__\u001b[0m \u001b[1;33m=\u001b[0m \u001b[0mname\u001b[0m\u001b[1;33m\u001b[0m\u001b[1;33m\u001b[0m\u001b[0m\n",
      "\u001b[1;32m~\\anaconda3\\envs\\savi\\lib\\site-packages\\pandas\\io\\parsers.py\u001b[0m in \u001b[0;36m_read\u001b[1;34m(filepath_or_buffer, kwds)\u001b[0m\n\u001b[0;32m    452\u001b[0m \u001b[1;33m\u001b[0m\u001b[0m\n\u001b[0;32m    453\u001b[0m     \u001b[1;32mtry\u001b[0m\u001b[1;33m:\u001b[0m\u001b[1;33m\u001b[0m\u001b[1;33m\u001b[0m\u001b[0m\n\u001b[1;32m--> 454\u001b[1;33m         \u001b[0mdata\u001b[0m \u001b[1;33m=\u001b[0m \u001b[0mparser\u001b[0m\u001b[1;33m.\u001b[0m\u001b[0mread\u001b[0m\u001b[1;33m(\u001b[0m\u001b[0mnrows\u001b[0m\u001b[1;33m)\u001b[0m\u001b[1;33m\u001b[0m\u001b[1;33m\u001b[0m\u001b[0m\n\u001b[0m\u001b[0;32m    455\u001b[0m     \u001b[1;32mfinally\u001b[0m\u001b[1;33m:\u001b[0m\u001b[1;33m\u001b[0m\u001b[1;33m\u001b[0m\u001b[0m\n\u001b[0;32m    456\u001b[0m         \u001b[0mparser\u001b[0m\u001b[1;33m.\u001b[0m\u001b[0mclose\u001b[0m\u001b[1;33m(\u001b[0m\u001b[1;33m)\u001b[0m\u001b[1;33m\u001b[0m\u001b[1;33m\u001b[0m\u001b[0m\n",
      "\u001b[1;32m~\\anaconda3\\envs\\savi\\lib\\site-packages\\pandas\\io\\parsers.py\u001b[0m in \u001b[0;36mread\u001b[1;34m(self, nrows)\u001b[0m\n\u001b[0;32m   1131\u001b[0m     \u001b[1;32mdef\u001b[0m \u001b[0mread\u001b[0m\u001b[1;33m(\u001b[0m\u001b[0mself\u001b[0m\u001b[1;33m,\u001b[0m \u001b[0mnrows\u001b[0m\u001b[1;33m=\u001b[0m\u001b[1;32mNone\u001b[0m\u001b[1;33m)\u001b[0m\u001b[1;33m:\u001b[0m\u001b[1;33m\u001b[0m\u001b[1;33m\u001b[0m\u001b[0m\n\u001b[0;32m   1132\u001b[0m         \u001b[0mnrows\u001b[0m \u001b[1;33m=\u001b[0m \u001b[0m_validate_integer\u001b[0m\u001b[1;33m(\u001b[0m\u001b[1;34m\"nrows\"\u001b[0m\u001b[1;33m,\u001b[0m \u001b[0mnrows\u001b[0m\u001b[1;33m)\u001b[0m\u001b[1;33m\u001b[0m\u001b[1;33m\u001b[0m\u001b[0m\n\u001b[1;32m-> 1133\u001b[1;33m         \u001b[0mret\u001b[0m \u001b[1;33m=\u001b[0m \u001b[0mself\u001b[0m\u001b[1;33m.\u001b[0m\u001b[0m_engine\u001b[0m\u001b[1;33m.\u001b[0m\u001b[0mread\u001b[0m\u001b[1;33m(\u001b[0m\u001b[0mnrows\u001b[0m\u001b[1;33m)\u001b[0m\u001b[1;33m\u001b[0m\u001b[1;33m\u001b[0m\u001b[0m\n\u001b[0m\u001b[0;32m   1134\u001b[0m \u001b[1;33m\u001b[0m\u001b[0m\n\u001b[0;32m   1135\u001b[0m         \u001b[1;31m# May alter columns / col_dict\u001b[0m\u001b[1;33m\u001b[0m\u001b[1;33m\u001b[0m\u001b[1;33m\u001b[0m\u001b[0m\n",
      "\u001b[1;32m~\\anaconda3\\envs\\savi\\lib\\site-packages\\pandas\\io\\parsers.py\u001b[0m in \u001b[0;36mread\u001b[1;34m(self, nrows)\u001b[0m\n\u001b[0;32m   2035\u001b[0m     \u001b[1;32mdef\u001b[0m \u001b[0mread\u001b[0m\u001b[1;33m(\u001b[0m\u001b[0mself\u001b[0m\u001b[1;33m,\u001b[0m \u001b[0mnrows\u001b[0m\u001b[1;33m=\u001b[0m\u001b[1;32mNone\u001b[0m\u001b[1;33m)\u001b[0m\u001b[1;33m:\u001b[0m\u001b[1;33m\u001b[0m\u001b[1;33m\u001b[0m\u001b[0m\n\u001b[0;32m   2036\u001b[0m         \u001b[1;32mtry\u001b[0m\u001b[1;33m:\u001b[0m\u001b[1;33m\u001b[0m\u001b[1;33m\u001b[0m\u001b[0m\n\u001b[1;32m-> 2037\u001b[1;33m             \u001b[0mdata\u001b[0m \u001b[1;33m=\u001b[0m \u001b[0mself\u001b[0m\u001b[1;33m.\u001b[0m\u001b[0m_reader\u001b[0m\u001b[1;33m.\u001b[0m\u001b[0mread\u001b[0m\u001b[1;33m(\u001b[0m\u001b[0mnrows\u001b[0m\u001b[1;33m)\u001b[0m\u001b[1;33m\u001b[0m\u001b[1;33m\u001b[0m\u001b[0m\n\u001b[0m\u001b[0;32m   2038\u001b[0m         \u001b[1;32mexcept\u001b[0m \u001b[0mStopIteration\u001b[0m\u001b[1;33m:\u001b[0m\u001b[1;33m\u001b[0m\u001b[1;33m\u001b[0m\u001b[0m\n\u001b[0;32m   2039\u001b[0m             \u001b[1;32mif\u001b[0m \u001b[0mself\u001b[0m\u001b[1;33m.\u001b[0m\u001b[0m_first_chunk\u001b[0m\u001b[1;33m:\u001b[0m\u001b[1;33m\u001b[0m\u001b[1;33m\u001b[0m\u001b[0m\n",
      "\u001b[1;32mpandas\\_libs\\parsers.pyx\u001b[0m in \u001b[0;36mpandas._libs.parsers.TextReader.read\u001b[1;34m()\u001b[0m\n",
      "\u001b[1;32mpandas\\_libs\\parsers.pyx\u001b[0m in \u001b[0;36mpandas._libs.parsers.TextReader._read_low_memory\u001b[1;34m()\u001b[0m\n",
      "\u001b[1;32mpandas\\_libs\\parsers.pyx\u001b[0m in \u001b[0;36mpandas._libs.parsers.TextReader._read_rows\u001b[1;34m()\u001b[0m\n",
      "\u001b[1;32mpandas\\_libs\\parsers.pyx\u001b[0m in \u001b[0;36mpandas._libs.parsers.TextReader._tokenize_rows\u001b[1;34m()\u001b[0m\n",
      "\u001b[1;32mpandas\\_libs\\parsers.pyx\u001b[0m in \u001b[0;36mpandas._libs.parsers.raise_parser_error\u001b[1;34m()\u001b[0m\n",
      "\u001b[1;31mParserError\u001b[0m: Error tokenizing data. C error: Expected 1 fields in line 20, saw 2\n"
     ]
    }
   ],
   "source": [
    "# load the CSV to ArcGIS on line and use it's URL. \n",
    "csv_url= 'https://mapsynch.maps.arcgis.com/home/item.html?id=01e080ea163643fa8e2436cbd0bc1aa9'\n",
    "# pd.read_csv fails with invalid syntax\n",
    "Pop_per_bed_df = pd.read_csv(csv_url)"
   ]
  },
  {
   "cell_type": "code",
   "execution_count": 113,
   "metadata": {},
   "outputs": [],
   "source": [
    "# another try with some help from Google.  What's that 'r' about just before the file name?\n",
    "Pop_per_bed_df = pd.read_csv (r'C:\\Users\\Roger Helms\\Documents\\GitHub\\popl_per_bed.csv')"
   ]
  },
  {
   "cell_type": "code",
   "execution_count": 114,
   "metadata": {},
   "outputs": [
    {
     "data": {
      "text/html": [
       "<div>\n",
       "<style scoped>\n",
       "    .dataframe tbody tr th:only-of-type {\n",
       "        vertical-align: middle;\n",
       "    }\n",
       "\n",
       "    .dataframe tbody tr th {\n",
       "        vertical-align: top;\n",
       "    }\n",
       "\n",
       "    .dataframe thead th {\n",
       "        text-align: right;\n",
       "    }\n",
       "</style>\n",
       "<table border=\"1\" class=\"dataframe\">\n",
       "  <thead>\n",
       "    <tr style=\"text-align: right;\">\n",
       "      <th></th>\n",
       "      <th>Boro</th>\n",
       "      <th>boro_code</th>\n",
       "      <th>Population</th>\n",
       "      <th>Beds</th>\n",
       "      <th>pop_per_bed</th>\n",
       "    </tr>\n",
       "  </thead>\n",
       "  <tbody>\n",
       "    <tr>\n",
       "      <th>0</th>\n",
       "      <td>Bronx</td>\n",
       "      <td>2</td>\n",
       "      <td>1,432,132.00</td>\n",
       "      <td>3,822.00</td>\n",
       "      <td>374.71</td>\n",
       "    </tr>\n",
       "    <tr>\n",
       "      <th>1</th>\n",
       "      <td>Brooklyn</td>\n",
       "      <td>3</td>\n",
       "      <td>2,582,830.00</td>\n",
       "      <td>6,166.00</td>\n",
       "      <td>418.88</td>\n",
       "    </tr>\n",
       "    <tr>\n",
       "      <th>2</th>\n",
       "      <td>Manhattan</td>\n",
       "      <td>1</td>\n",
       "      <td>1,628,701.00</td>\n",
       "      <td>11,052.00</td>\n",
       "      <td>147.37</td>\n",
       "    </tr>\n",
       "    <tr>\n",
       "      <th>3</th>\n",
       "      <td>Queens</td>\n",
       "      <td>4</td>\n",
       "      <td>2,278,906.00</td>\n",
       "      <td>3,734.00</td>\n",
       "      <td>610.31</td>\n",
       "    </tr>\n",
       "    <tr>\n",
       "      <th>4</th>\n",
       "      <td>Staten Island</td>\n",
       "      <td>5</td>\n",
       "      <td>476,179.00</td>\n",
       "      <td>1,187.00</td>\n",
       "      <td>401.16</td>\n",
       "    </tr>\n",
       "  </tbody>\n",
       "</table>\n",
       "</div>"
      ],
      "text/plain": [
       "            Boro  boro_code    Population       Beds  pop_per_bed\n",
       "0          Bronx          2  1,432,132.00   3,822.00       374.71\n",
       "1       Brooklyn          3  2,582,830.00   6,166.00       418.88\n",
       "2      Manhattan          1  1,628,701.00  11,052.00       147.37\n",
       "3         Queens          4  2,278,906.00   3,734.00       610.31\n",
       "4  Staten Island          5    476,179.00   1,187.00       401.16"
      ]
     },
     "execution_count": 114,
     "metadata": {},
     "output_type": "execute_result"
    }
   ],
   "source": [
    "# This time I cheated successfully\n",
    "Pop_per_bed_df"
   ]
  },
  {
   "cell_type": "markdown",
   "metadata": {},
   "source": [
    "#### Display the `.head()` of `grouped` DataFrame to check our results"
   ]
  },
  {
   "cell_type": "code",
   "execution_count": 115,
   "metadata": {},
   "outputs": [
    {
     "data": {
      "text/html": [
       "<div>\n",
       "<style scoped>\n",
       "    .dataframe tbody tr th:only-of-type {\n",
       "        vertical-align: middle;\n",
       "    }\n",
       "\n",
       "    .dataframe tbody tr th {\n",
       "        vertical-align: top;\n",
       "    }\n",
       "\n",
       "    .dataframe thead th {\n",
       "        text-align: right;\n",
       "    }\n",
       "</style>\n",
       "<table border=\"1\" class=\"dataframe\">\n",
       "  <thead>\n",
       "    <tr style=\"text-align: right;\">\n",
       "      <th></th>\n",
       "      <th>Boro</th>\n",
       "      <th>boro_code</th>\n",
       "      <th>Population</th>\n",
       "      <th>Beds</th>\n",
       "      <th>pop_per_bed</th>\n",
       "    </tr>\n",
       "  </thead>\n",
       "  <tbody>\n",
       "    <tr>\n",
       "      <th>0</th>\n",
       "      <td>Bronx</td>\n",
       "      <td>2</td>\n",
       "      <td>1,432,132.00</td>\n",
       "      <td>3,822.00</td>\n",
       "      <td>374.71</td>\n",
       "    </tr>\n",
       "    <tr>\n",
       "      <th>1</th>\n",
       "      <td>Brooklyn</td>\n",
       "      <td>3</td>\n",
       "      <td>2,582,830.00</td>\n",
       "      <td>6,166.00</td>\n",
       "      <td>418.88</td>\n",
       "    </tr>\n",
       "    <tr>\n",
       "      <th>2</th>\n",
       "      <td>Manhattan</td>\n",
       "      <td>1</td>\n",
       "      <td>1,628,701.00</td>\n",
       "      <td>11,052.00</td>\n",
       "      <td>147.37</td>\n",
       "    </tr>\n",
       "    <tr>\n",
       "      <th>3</th>\n",
       "      <td>Queens</td>\n",
       "      <td>4</td>\n",
       "      <td>2,278,906.00</td>\n",
       "      <td>3,734.00</td>\n",
       "      <td>610.31</td>\n",
       "    </tr>\n",
       "    <tr>\n",
       "      <th>4</th>\n",
       "      <td>Staten Island</td>\n",
       "      <td>5</td>\n",
       "      <td>476,179.00</td>\n",
       "      <td>1,187.00</td>\n",
       "      <td>401.16</td>\n",
       "    </tr>\n",
       "  </tbody>\n",
       "</table>\n",
       "</div>"
      ],
      "text/plain": [
       "            Boro  boro_code    Population       Beds  pop_per_bed\n",
       "0          Bronx          2  1,432,132.00   3,822.00       374.71\n",
       "1       Brooklyn          3  2,582,830.00   6,166.00       418.88\n",
       "2      Manhattan          1  1,628,701.00  11,052.00       147.37\n",
       "3         Queens          4  2,278,906.00   3,734.00       610.31\n",
       "4  Staten Island          5    476,179.00   1,187.00       401.16"
      ]
     },
     "execution_count": 115,
     "metadata": {},
     "output_type": "execute_result"
    }
   ],
   "source": [
    "Pop_per_bed_df"
   ]
  },
  {
   "cell_type": "markdown",
   "metadata": {},
   "source": [
    "#### Plot a bar chart showing Borough Population per Hospital Bed"
   ]
  },
  {
   "cell_type": "code",
   "execution_count": null,
   "metadata": {},
   "outputs": [],
   "source": [
    "#ORIGINAL\n",
    "plt.figure(figsize=(10, 8))\n",
    "\n",
    "plt.bar(\n",
    "    grouped['boro_name'],\n",
    "    grouped['boro_pop_per_hosp_bed'],\n",
    ");\n",
    "\n",
    "# leave the above code as-is, this sets the size of your figure. \n",
    "\n",
    "\n",
    "# Add your own Title string below;\n",
    "# Add your own Title string below;\n",
    "# Add your own Title string below;\n",
    "\n",
    "plt.title('ADD YOUR TITLE STRING HERE');"
   ]
  },
  {
   "cell_type": "code",
   "execution_count": 117,
   "metadata": {},
   "outputs": [
    {
     "ename": "KeyError",
     "evalue": "'boro'",
     "output_type": "error",
     "traceback": [
      "\u001b[1;31m---------------------------------------------------------------------------\u001b[0m",
      "\u001b[1;31mKeyError\u001b[0m                                  Traceback (most recent call last)",
      "\u001b[1;32m~\\anaconda3\\envs\\savi\\lib\\site-packages\\pandas\\core\\indexes\\base.py\u001b[0m in \u001b[0;36mget_loc\u001b[1;34m(self, key, method, tolerance)\u001b[0m\n\u001b[0;32m   2645\u001b[0m             \u001b[1;32mtry\u001b[0m\u001b[1;33m:\u001b[0m\u001b[1;33m\u001b[0m\u001b[1;33m\u001b[0m\u001b[0m\n\u001b[1;32m-> 2646\u001b[1;33m                 \u001b[1;32mreturn\u001b[0m \u001b[0mself\u001b[0m\u001b[1;33m.\u001b[0m\u001b[0m_engine\u001b[0m\u001b[1;33m.\u001b[0m\u001b[0mget_loc\u001b[0m\u001b[1;33m(\u001b[0m\u001b[0mkey\u001b[0m\u001b[1;33m)\u001b[0m\u001b[1;33m\u001b[0m\u001b[1;33m\u001b[0m\u001b[0m\n\u001b[0m\u001b[0;32m   2647\u001b[0m             \u001b[1;32mexcept\u001b[0m \u001b[0mKeyError\u001b[0m\u001b[1;33m:\u001b[0m\u001b[1;33m\u001b[0m\u001b[1;33m\u001b[0m\u001b[0m\n",
      "\u001b[1;32mpandas\\_libs\\index.pyx\u001b[0m in \u001b[0;36mpandas._libs.index.IndexEngine.get_loc\u001b[1;34m()\u001b[0m\n",
      "\u001b[1;32mpandas\\_libs\\index.pyx\u001b[0m in \u001b[0;36mpandas._libs.index.IndexEngine.get_loc\u001b[1;34m()\u001b[0m\n",
      "\u001b[1;32mpandas\\_libs\\hashtable_class_helper.pxi\u001b[0m in \u001b[0;36mpandas._libs.hashtable.PyObjectHashTable.get_item\u001b[1;34m()\u001b[0m\n",
      "\u001b[1;32mpandas\\_libs\\hashtable_class_helper.pxi\u001b[0m in \u001b[0;36mpandas._libs.hashtable.PyObjectHashTable.get_item\u001b[1;34m()\u001b[0m\n",
      "\u001b[1;31mKeyError\u001b[0m: 'boro'",
      "\nDuring handling of the above exception, another exception occurred:\n",
      "\u001b[1;31mKeyError\u001b[0m                                  Traceback (most recent call last)",
      "\u001b[1;32m<ipython-input-117-809b7d9b2265>\u001b[0m in \u001b[0;36m<module>\u001b[1;34m\u001b[0m\n\u001b[0;32m      3\u001b[0m \u001b[1;33m\u001b[0m\u001b[0m\n\u001b[0;32m      4\u001b[0m plt.bar(\n\u001b[1;32m----> 5\u001b[1;33m     \u001b[0mPop_per_bed_df\u001b[0m\u001b[1;33m[\u001b[0m\u001b[1;34m'boro'\u001b[0m\u001b[1;33m]\u001b[0m\u001b[1;33m,\u001b[0m\u001b[1;33m\u001b[0m\u001b[1;33m\u001b[0m\u001b[0m\n\u001b[0m\u001b[0;32m      6\u001b[0m     \u001b[0mPop_per_bed_df\u001b[0m\u001b[1;33m[\u001b[0m\u001b[1;34m'pop_per_bed'\u001b[0m\u001b[1;33m]\u001b[0m\u001b[1;33m,\u001b[0m\u001b[1;33m\u001b[0m\u001b[1;33m\u001b[0m\u001b[0m\n\u001b[0;32m      7\u001b[0m );\n",
      "\u001b[1;32m~\\anaconda3\\envs\\savi\\lib\\site-packages\\pandas\\core\\frame.py\u001b[0m in \u001b[0;36m__getitem__\u001b[1;34m(self, key)\u001b[0m\n\u001b[0;32m   2798\u001b[0m             \u001b[1;32mif\u001b[0m \u001b[0mself\u001b[0m\u001b[1;33m.\u001b[0m\u001b[0mcolumns\u001b[0m\u001b[1;33m.\u001b[0m\u001b[0mnlevels\u001b[0m \u001b[1;33m>\u001b[0m \u001b[1;36m1\u001b[0m\u001b[1;33m:\u001b[0m\u001b[1;33m\u001b[0m\u001b[1;33m\u001b[0m\u001b[0m\n\u001b[0;32m   2799\u001b[0m                 \u001b[1;32mreturn\u001b[0m \u001b[0mself\u001b[0m\u001b[1;33m.\u001b[0m\u001b[0m_getitem_multilevel\u001b[0m\u001b[1;33m(\u001b[0m\u001b[0mkey\u001b[0m\u001b[1;33m)\u001b[0m\u001b[1;33m\u001b[0m\u001b[1;33m\u001b[0m\u001b[0m\n\u001b[1;32m-> 2800\u001b[1;33m             \u001b[0mindexer\u001b[0m \u001b[1;33m=\u001b[0m \u001b[0mself\u001b[0m\u001b[1;33m.\u001b[0m\u001b[0mcolumns\u001b[0m\u001b[1;33m.\u001b[0m\u001b[0mget_loc\u001b[0m\u001b[1;33m(\u001b[0m\u001b[0mkey\u001b[0m\u001b[1;33m)\u001b[0m\u001b[1;33m\u001b[0m\u001b[1;33m\u001b[0m\u001b[0m\n\u001b[0m\u001b[0;32m   2801\u001b[0m             \u001b[1;32mif\u001b[0m \u001b[0mis_integer\u001b[0m\u001b[1;33m(\u001b[0m\u001b[0mindexer\u001b[0m\u001b[1;33m)\u001b[0m\u001b[1;33m:\u001b[0m\u001b[1;33m\u001b[0m\u001b[1;33m\u001b[0m\u001b[0m\n\u001b[0;32m   2802\u001b[0m                 \u001b[0mindexer\u001b[0m \u001b[1;33m=\u001b[0m \u001b[1;33m[\u001b[0m\u001b[0mindexer\u001b[0m\u001b[1;33m]\u001b[0m\u001b[1;33m\u001b[0m\u001b[1;33m\u001b[0m\u001b[0m\n",
      "\u001b[1;32m~\\anaconda3\\envs\\savi\\lib\\site-packages\\pandas\\core\\indexes\\base.py\u001b[0m in \u001b[0;36mget_loc\u001b[1;34m(self, key, method, tolerance)\u001b[0m\n\u001b[0;32m   2646\u001b[0m                 \u001b[1;32mreturn\u001b[0m \u001b[0mself\u001b[0m\u001b[1;33m.\u001b[0m\u001b[0m_engine\u001b[0m\u001b[1;33m.\u001b[0m\u001b[0mget_loc\u001b[0m\u001b[1;33m(\u001b[0m\u001b[0mkey\u001b[0m\u001b[1;33m)\u001b[0m\u001b[1;33m\u001b[0m\u001b[1;33m\u001b[0m\u001b[0m\n\u001b[0;32m   2647\u001b[0m             \u001b[1;32mexcept\u001b[0m \u001b[0mKeyError\u001b[0m\u001b[1;33m:\u001b[0m\u001b[1;33m\u001b[0m\u001b[1;33m\u001b[0m\u001b[0m\n\u001b[1;32m-> 2648\u001b[1;33m                 \u001b[1;32mreturn\u001b[0m \u001b[0mself\u001b[0m\u001b[1;33m.\u001b[0m\u001b[0m_engine\u001b[0m\u001b[1;33m.\u001b[0m\u001b[0mget_loc\u001b[0m\u001b[1;33m(\u001b[0m\u001b[0mself\u001b[0m\u001b[1;33m.\u001b[0m\u001b[0m_maybe_cast_indexer\u001b[0m\u001b[1;33m(\u001b[0m\u001b[0mkey\u001b[0m\u001b[1;33m)\u001b[0m\u001b[1;33m)\u001b[0m\u001b[1;33m\u001b[0m\u001b[1;33m\u001b[0m\u001b[0m\n\u001b[0m\u001b[0;32m   2649\u001b[0m         \u001b[0mindexer\u001b[0m \u001b[1;33m=\u001b[0m \u001b[0mself\u001b[0m\u001b[1;33m.\u001b[0m\u001b[0mget_indexer\u001b[0m\u001b[1;33m(\u001b[0m\u001b[1;33m[\u001b[0m\u001b[0mkey\u001b[0m\u001b[1;33m]\u001b[0m\u001b[1;33m,\u001b[0m \u001b[0mmethod\u001b[0m\u001b[1;33m=\u001b[0m\u001b[0mmethod\u001b[0m\u001b[1;33m,\u001b[0m \u001b[0mtolerance\u001b[0m\u001b[1;33m=\u001b[0m\u001b[0mtolerance\u001b[0m\u001b[1;33m)\u001b[0m\u001b[1;33m\u001b[0m\u001b[1;33m\u001b[0m\u001b[0m\n\u001b[0;32m   2650\u001b[0m         \u001b[1;32mif\u001b[0m \u001b[0mindexer\u001b[0m\u001b[1;33m.\u001b[0m\u001b[0mndim\u001b[0m \u001b[1;33m>\u001b[0m \u001b[1;36m1\u001b[0m \u001b[1;32mor\u001b[0m \u001b[0mindexer\u001b[0m\u001b[1;33m.\u001b[0m\u001b[0msize\u001b[0m \u001b[1;33m>\u001b[0m \u001b[1;36m1\u001b[0m\u001b[1;33m:\u001b[0m\u001b[1;33m\u001b[0m\u001b[1;33m\u001b[0m\u001b[0m\n",
      "\u001b[1;32mpandas\\_libs\\index.pyx\u001b[0m in \u001b[0;36mpandas._libs.index.IndexEngine.get_loc\u001b[1;34m()\u001b[0m\n",
      "\u001b[1;32mpandas\\_libs\\index.pyx\u001b[0m in \u001b[0;36mpandas._libs.index.IndexEngine.get_loc\u001b[1;34m()\u001b[0m\n",
      "\u001b[1;32mpandas\\_libs\\hashtable_class_helper.pxi\u001b[0m in \u001b[0;36mpandas._libs.hashtable.PyObjectHashTable.get_item\u001b[1;34m()\u001b[0m\n",
      "\u001b[1;32mpandas\\_libs\\hashtable_class_helper.pxi\u001b[0m in \u001b[0;36mpandas._libs.hashtable.PyObjectHashTable.get_item\u001b[1;34m()\u001b[0m\n",
      "\u001b[1;31mKeyError\u001b[0m: 'boro'"
     ]
    },
    {
     "data": {
      "text/plain": [
       "<Figure size 720x576 with 0 Axes>"
      ]
     },
     "metadata": {},
     "output_type": "display_data"
    }
   ],
   "source": [
    "#Roger's failed attempt using the manually prepared .CSV\n",
    "plt.figure(figsize=(10, 8))\n",
    "\n",
    "plt.bar(\n",
    "    Pop_per_bed_df['boro'],\n",
    "    Pop_per_bed_df['pop_per_bed'],\n",
    ");\n",
    "\n",
    "# leave the above code as-is, this sets the size of your figure. \n",
    "\n",
    "\n",
    "# Add your own Title string below;\n",
    "# Add your own Title string below;\n",
    "# Add your own Title string below;\n",
    "\n",
    "plt.title('Borough Population per Hospital Bed');"
   ]
  },
  {
   "cell_type": "markdown",
   "metadata": {},
   "source": [
    "# Map our Final Results"
   ]
  },
  {
   "cell_type": "code",
   "execution_count": 24,
   "metadata": {},
   "outputs": [],
   "source": [
    "# Roger: Not attempted\n",
    "boro_geojson_link = 'https://data.cityofnewyork.us/api/geospatial/tqmj-j8zm?method=export&format=GeoJSON'"
   ]
  },
  {
   "cell_type": "markdown",
   "metadata": {},
   "source": [
    "#### Read in `boro_geojso_link` as GeoDataFrame called `boro`"
   ]
  },
  {
   "cell_type": "code",
   "execution_count": 18,
   "metadata": {},
   "outputs": [],
   "source": [
    "# Roger: Not attempted\n",
    "# your code here\n",
    "# your code here\n",
    "# your code here"
   ]
  },
  {
   "cell_type": "code",
   "execution_count": 19,
   "metadata": {},
   "outputs": [],
   "source": [
    "# Roger: Not attempted\n",
    "boro.plot();\n",
    "# run this code as-is"
   ]
  },
  {
   "cell_type": "markdown",
   "metadata": {},
   "source": [
    "#### Merge `boro` to `grouped` on `boro_code` with a 'left' as `how=`"
   ]
  },
  {
   "cell_type": "code",
   "execution_count": 28,
   "metadata": {},
   "outputs": [],
   "source": [
    "# Roger: Not attempted\n",
    "boro_joined = pd.merge(\n",
    "    left=<your code>,      # our `boro` geodataframe\n",
    "    right=<your code>,  # our `grouped` bed count sums\n",
    "    on=<your code>, # the common id to join grouped to boro\n",
    "    how=<your code>,     # join on 'left'\n",
    ")"
   ]
  },
  {
   "cell_type": "code",
   "execution_count": 20,
   "metadata": {},
   "outputs": [],
   "source": [
    "# Roger: Not attempted\n",
    "boro_joined\n",
    "# run cell as is"
   ]
  },
  {
   "cell_type": "code",
   "execution_count": 21,
   "metadata": {},
   "outputs": [],
   "source": [
    "# Roger: Not attempted\n",
    "# # run cell as-is\n",
    "# # run cell as-is\n",
    "# # run cell as-is\n",
    "fig, ax = plt.subplots(figsize=(12, 12))\n",
    "\n",
    "boro_joined.to_crs(epsg=2263).plot(\n",
    "    column='boro_pop_per_hosp_bed', \n",
    "    cmap='OrRd',\n",
    "    edgecolor='darkgray',\n",
    "    linewidth=0.8,\n",
    "    scheme='quantiles',\n",
    "    ax=ax,\n",
    "    legend=True,\n",
    "    legend_kwds={\n",
    "        'title': 'Population per Hospital Bed',\n",
    "        'loc': 'upper left',\n",
    "        'shadow': True,\n",
    "        'facecolor': 'white',\n",
    "    },\n",
    ")\n",
    "\n",
    "ax.xaxis.set_ticklabels([])\n",
    "ax.yaxis.set_ticklabels([])\n",
    "\n",
    "plt.title('Borough Population per Hospital Bed')\n",
    "\n",
    "plt.savefig('img/borough_pop_per_hosp_bed.png')\n",
    "plt.show();"
   ]
  },
  {
   "cell_type": "code",
   "execution_count": 87,
   "metadata": {},
   "outputs": [],
   "source": [
    "# Note, I'd probably spend a little more time on the legend labels. \n",
    "# Also, would probably get rid of the ggplot background and tick's. \n",
    "# Plotting in Python, requires a lot of code. "
   ]
  }
 ],
 "metadata": {
  "kernelspec": {
   "display_name": "Python 3",
   "language": "python",
   "name": "python3"
  },
  "language_info": {
   "codemirror_mode": {
    "name": "ipython",
    "version": 3
   },
   "file_extension": ".py",
   "mimetype": "text/x-python",
   "name": "python",
   "nbconvert_exporter": "python",
   "pygments_lexer": "ipython3",
   "version": "3.8.2"
  },
  "toc": {
   "base_numbering": 1,
   "nav_menu": {},
   "number_sections": false,
   "sideBar": true,
   "skip_h1_title": false,
   "title_cell": "Table of Contents",
   "title_sidebar": "Contents",
   "toc_cell": true,
   "toc_position": {},
   "toc_section_display": true,
   "toc_window_display": true
  }
 },
 "nbformat": 4,
 "nbformat_minor": 2
}
