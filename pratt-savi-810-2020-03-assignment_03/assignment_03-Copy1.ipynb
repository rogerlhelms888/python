{
 "cells": [
  {
   "cell_type": "markdown",
   "metadata": {},
   "source": [
    "# Assignment 03\n",
    "\n",
    "# Exploratory Data Analysis (EDA)\n",
    "\n",
    "\n",
    "#### Bring your own Data and write your own code \n",
    "\n",
    "![http://www.pratt.edu/tiny_mce/plugins/imagemanager/files/Light_brown_blue22.jpg](http://www.pratt.edu/tiny_mce/plugins/imagemanager/files/Light_brown_blue22.jpg)"
   ]
  },
  {
   "cell_type": "markdown",
   "metadata": {
    "toc": true
   },
   "source": [
    "<h1>Table of Contents<span class=\"tocSkip\"></span></h1>\n",
    "<div class=\"toc\"><ul class=\"toc-item\"><li><span><a href=\"#Assignment-03\" data-toc-modified-id=\"Assignment-03-1\">Assignment 03</a></span></li><li><span><a href=\"#Exploratory-Data-Analysis-(EDA)\" data-toc-modified-id=\"Exploratory-Data-Analysis-(EDA)-2\">Exploratory Data Analysis (EDA)</a></span><ul class=\"toc-item\"><li><ul class=\"toc-item\"><li><ul class=\"toc-item\"><li><span><a href=\"#Bring-your-own-Data-and-write-your-own-code\" data-toc-modified-id=\"Bring-your-own-Data-and-write-your-own-code-2.0.0.1\">Bring your own Data and write your own code</a></span></li></ul></li></ul></li></ul></li><li><span><a href=\"#Exploratory-Data-Analysis-(EDA)\" data-toc-modified-id=\"Exploratory-Data-Analysis-(EDA)-3\">Exploratory Data Analysis (EDA)</a></span><ul class=\"toc-item\"><li><ul class=\"toc-item\"><li><ul class=\"toc-item\"><li><span><a href=\"#Bring-your-own-Data-and-write-your-own-code\" data-toc-modified-id=\"Bring-your-own-Data-and-write-your-own-code-3.0.0.1\">Bring your own Data and write your own code</a></span></li></ul></li></ul></li><li><span><a href=\"#Instructions\" data-toc-modified-id=\"Instructions-3.1\">Instructions</a></span></li><li><span><a href=\"#Due-Date-Monday-2020/04/13\" data-toc-modified-id=\"Due-Date-Monday-2020/04/13-3.2\">Due Date Monday 2020/04/13</a></span></li></ul></li><li><span><a href=\"#Import-Libraries\" data-toc-modified-id=\"Import-Libraries-4\">Import Libraries</a></span></li><li><span><a href=\"#1.-Find-some-spatial-Data\" data-toc-modified-id=\"1.-Find-some-spatial-Data-5\">1. Find some spatial Data</a></span><ul class=\"toc-item\"><li><ul class=\"toc-item\"><li><span><a href=\"#Where-does-your-data-come-from?\" data-toc-modified-id=\"Where-does-your-data-come-from?-5.0.1\">Where does your data come from?</a></span></li><li><span><a href=\"#Describe-how-your-data-is-generated.\" data-toc-modified-id=\"Describe-how-your-data-is-generated.-5.0.2\">Describe how your data is generated.</a></span></li><li><span><a href=\"#Why-did-you-choose-this-data-file?\" data-toc-modified-id=\"Why-did-you-choose-this-data-file?-5.0.3\">Why did you choose this data file?</a></span></li></ul></li></ul></li><li><span><a href=\"#2.-Load-in-your-Geospatial-Data-as-GeoDataFrame\" data-toc-modified-id=\"2.-Load-in-your-Geospatial-Data-as-GeoDataFrame-6\">2. Load in your Geospatial Data as GeoDataFrame</a></span><ul class=\"toc-item\"><li><ul class=\"toc-item\"><li><ul class=\"toc-item\"><li><span><a href=\"#Load-your-file-into-a-GeoDataFrame\" data-toc-modified-id=\"Load-your-file-into-a-GeoDataFrame-6.0.0.1\">Load your file into a GeoDataFrame</a></span></li><li><span><a href=\"#Show-the-head()-of-the-DataFrame\" data-toc-modified-id=\"Show-the-head()-of-the-DataFrame-6.0.0.2\">Show the <code>head(</code>) of the DataFrame</a></span></li><li><span><a href=\"#Show-the-tail()-of-the-DataFrame\" data-toc-modified-id=\"Show-the-tail()-of-the-DataFrame-6.0.0.3\">Show the <code>tail(</code>) of the DataFrame</a></span></li><li><span><a href=\"#(Optional)--Do-any-additional-or-other-Data-Exploration-or-Transformation-to-your-data-in-cell(s)-below;\" data-toc-modified-id=\"(Optional)--Do-any-additional-or-other-Data-Exploration-or-Transformation-to-your-data-in-cell(s)-below;-6.0.0.4\">(Optional)  Do any additional or other Data Exploration or Transformation to your data in cell(s) below;</a></span></li></ul></li></ul></li></ul></li><li><span><a href=\"#3.-Exploratory-Data-Analysis-(EDA)-Plots\" data-toc-modified-id=\"3.-Exploratory-Data-Analysis-(EDA)-Plots-7\">3. Exploratory Data Analysis (EDA) Plots</a></span><ul class=\"toc-item\"><li><ul class=\"toc-item\"><li><ul class=\"toc-item\"><li><span><a href=\"#Plot-the-Distribution-of-one-of-your-data's-columns-in-a-Histogram-Plot-or-some-other-Matplotlib,-Seaborn,-Missingno-plot\" data-toc-modified-id=\"Plot-the-Distribution-of-one-of-your-data's-columns-in-a-Histogram-Plot-or-some-other-Matplotlib,-Seaborn,-Missingno-plot-7.0.0.1\">Plot the Distribution of one of your data's columns in a Histogram Plot or some other Matplotlib, Seaborn, Missingno plot</a></span></li><li><span><a href=\"#(Optional)-Do-any-additional-or-other-Plots-in-cell(s)-below;\" data-toc-modified-id=\"(Optional)-Do-any-additional-or-other-Plots-in-cell(s)-below;-7.0.0.2\">(Optional) Do any additional or other Plots in cell(s) below;</a></span></li></ul></li></ul></li></ul></li><li><span><a href=\"#4.-Map-your-Data\" data-toc-modified-id=\"4.-Map-your-Data-8\">4. Map your Data</a></span><ul class=\"toc-item\"><li><ul class=\"toc-item\"><li><ul class=\"toc-item\"><li><span><a href=\"#Create-GeoDataFrame-Map--.plot()-to-see-our-the-spatial-distribution-of-your-data\" data-toc-modified-id=\"Create-GeoDataFrame-Map--.plot()-to-see-our-the-spatial-distribution-of-your-data-8.0.0.1\">Create GeoDataFrame Map  <code>.plot()</code> to see our the spatial distribution of your data</a></span></li><li><span><a href=\"#(Optional)-Do-any-additional-or-other-Maps-in-cell(s)-below;\" data-toc-modified-id=\"(Optional)-Do-any-additional-or-other-Maps-in-cell(s)-below;-8.0.0.2\">(Optional) Do any additional or other Maps in cell(s) below;</a></span></li></ul></li></ul></li></ul></li><li><span><a href=\"#5.-Highlight-any-interesting-findings\" data-toc-modified-id=\"5.-Highlight-any-interesting-findings-9\">5. Highlight any interesting findings</a></span></li><li><span><a href=\"#6.-Present\" data-toc-modified-id=\"6.-Present-10\">6. Present</a></span></li></ul></div>"
   ]
  },
  {
   "cell_type": "markdown",
   "metadata": {},
   "source": [
    "# Exploratory Data Analysis (EDA)\n",
    "\n",
    "\n",
    "#### Bring your own Data and write your own code \n",
    "\n",
    "---\n",
    "\n",
    "\n",
    "## Instructions\n",
    "\n",
    "\n",
    "Assignment 03 is fairly open-ended and you can do as much or as little as you like. However, you are **required** to do the following; \n",
    "\n",
    "\n",
    "1. **Find** a geospatial data file\n",
    "2. Read it in as a **GeoDataFrame**\n",
    "3. **Perform** some **Exploratory Data Analysis** (EDA) by **creating some plots that describe your data**\n",
    "  - Perhaps plot a Histogram\n",
    "  - Perhaps plot a Bar Chart\n",
    "  - Perhaps plot a Scatterplot of two variables\n",
    "4. **Plot a map**\n",
    "  - Required: A map title \n",
    "  - A larger than default `figsize`. \n",
    "5. **Highlight any interesting findings**\n",
    "\n",
    "6. **Present** your Exploratory Data Analysis to the class **Monday 2020/04/13**\n",
    "  - Required: Present your Notebook to the class - **5-7 minute presentation in class on Monday 2020/04/13**. \n",
    "  - No need for Powerpoint or Slides, **you'll present your Notebook**. \n",
    "\n",
    "\n",
    "**Optional**:\n",
    "You may choose to do the following tasks for more practice and deeper insights. I recommended doing one of the following;\n",
    "\n",
    "* Perform some Geoprocessing (Reprojection, Buffer, Centroid, Overlay (Intersection, etc)) and plot a map. \n",
    "* Thematically style your data map, i.e. a Choropleth, Graduate Symbol, etc. \n",
    "\n",
    "If you need some inspiration for data sources try:\n",
    "\n",
    "* [NYC Open Data](https://opendata.cityofnewyork.us/)\n",
    "* [NYS Open Data](https://data.ny.gov/)\n",
    "* [US Data.gov](https://www.data.gov/)\n",
    "\n",
    "Otherwise **bring your own data**. **Note:** if your data is medical or health patient data or business data where security is an issue, **DO NOT USE BUSINESS SENSITIVE OR Personally Identifiable Information (PII) data**. If you are not sure, ask me in Slack via a Direct Message. \n",
    "\n",
    "## Due Date Monday 2020/04/13\n",
    "\n",
    "This Assignment 03 is **due Monday 2020/04/13**. \n",
    "\n",
    "You will be **presenting your Notebook to the class - 5-7 minute presentation in class on Monday 2020/04/13**.  No need for Powerpoint or Slides, you'll present your Notebook. \n"
   ]
  },
  {
   "cell_type": "markdown",
   "metadata": {},
   "source": [
    "# Import Libraries\n",
    "The libraries required for this assignment are imported for you below."
   ]
  },
  {
   "cell_type": "code",
   "execution_count": 61,
   "metadata": {},
   "outputs": [],
   "source": [
    "import pandas as pd\n",
    "import geopandas as gpd \n",
    "import numpy as np\n",
    "import matplotlib.pyplot as plt\n",
    "\n",
    "# add any additional libraries you need here"
   ]
  },
  {
   "cell_type": "code",
   "execution_count": 3,
   "metadata": {},
   "outputs": [],
   "source": [
    "%matplotlib inline\n",
    "# run this cell "
   ]
  },
  {
   "cell_type": "markdown",
   "metadata": {},
   "source": [
    "# 1. Find some spatial Data\n",
    "\n",
    "Add some text and links in the sections below.\n",
    "\n",
    "**IMPORTANT**: If your data file or any component files is greater than 50 MB - please talk to me about `.gitignore`-ing your data before you commit, push your notebook up to GitHub. "
   ]
  },
  {
   "cell_type": "markdown",
   "metadata": {},
   "source": [
    "\n",
    "### Where does your data come from? \n",
    "\n",
    "* **Data Name**: `Type in the official name of your data here, if its personal or professional data, create a name for your data`. \n",
    "* **Data Source Name**: `Type the name of the organization that created your data here`\n",
    "* **Data Source Link**: `<Paste a link to your data if on the internet, if not, leave empty>`\n",
    "\n"
   ]
  },
  {
   "cell_type": "markdown",
   "metadata": {},
   "source": [
    "### Describe how your data is generated. \n",
    "\n",
    "```Your text describing your data here```\n"
   ]
  },
  {
   "cell_type": "markdown",
   "metadata": {},
   "source": [
    "### Why did you choose this data file? \n",
    "\n",
    "```Your text describing your data here. Anything from, I'm required to explore this data for my job, I'm lazy and this was the first data I found, or I'm interested in the distribution of Motorcycle Repair shops, etc.```\n"
   ]
  },
  {
   "cell_type": "markdown",
   "metadata": {},
   "source": [
    "# 2. Load in your Geospatial Data as GeoDataFrame"
   ]
  },
  {
   "cell_type": "markdown",
   "metadata": {},
   "source": [
    "#### Load your file into a GeoDataFrame\n",
    "See **Lesson 03 GeoPandas section** for reference. \n",
    "\n",
    "You're being asking to load the GeoDataFrame as a variable named `gdf`. \n",
    "\n",
    "```python\n",
    "\n",
    "gdf = # \"read\" the file\n",
    "\n",
    "```"
   ]
  },
  {
   "cell_type": "code",
   "execution_count": 2,
   "metadata": {},
   "outputs": [],
   "source": [
    "import pandas as pd  # import pandas\n",
    "# ran successfully at 4/20/20"
   ]
  },
  {
   "cell_type": "code",
   "execution_count": 7,
   "metadata": {},
   "outputs": [],
   "source": [
    "### your code here\n",
    "# store the file path to a variable name:\n",
    "my_CSV_path_name = r'C:\\Users\\Roger Helms\\Documents\\ArcGIS\\Projects\\ACLED\\2019-01-01-2020-04-17-Afghanistan.csv'\n",
    "# read the csv file (put 'r' before the path string to address any special characters in the path, such as '\\'). \n",
    "# Don't forget to put the file name at the end of the path + \".csv\"\n",
    "# ran successfully at 4/20/20"
   ]
  },
  {
   "cell_type": "code",
   "execution_count": 8,
   "metadata": {},
   "outputs": [],
   "source": [
    "### your code here\n",
    "# open the .CSV file into a Pandas data frame ('df').\n",
    "df = pd.read_csv(my_CSV_path_name)  #pd is the variable name of the imported pandas\n",
    "# ran successfully at 4/20/20"
   ]
  },
  {
   "cell_type": "markdown",
   "metadata": {},
   "source": [
    "#### Show the `head(`) of the DataFrame "
   ]
  },
  {
   "cell_type": "code",
   "execution_count": 9,
   "metadata": {},
   "outputs": [
    {
     "data": {
      "text/html": [
       "<div>\n",
       "<style scoped>\n",
       "    .dataframe tbody tr th:only-of-type {\n",
       "        vertical-align: middle;\n",
       "    }\n",
       "\n",
       "    .dataframe tbody tr th {\n",
       "        vertical-align: top;\n",
       "    }\n",
       "\n",
       "    .dataframe thead th {\n",
       "        text-align: right;\n",
       "    }\n",
       "</style>\n",
       "<table border=\"1\" class=\"dataframe\">\n",
       "  <thead>\n",
       "    <tr style=\"text-align: right;\">\n",
       "      <th></th>\n",
       "      <th>data_id</th>\n",
       "      <th>iso</th>\n",
       "      <th>event_id_cnty</th>\n",
       "      <th>event_id_no_cnty</th>\n",
       "      <th>event_date</th>\n",
       "      <th>year</th>\n",
       "      <th>time_precision</th>\n",
       "      <th>event_type</th>\n",
       "      <th>sub_event_type</th>\n",
       "      <th>actor1</th>\n",
       "      <th>...</th>\n",
       "      <th>location</th>\n",
       "      <th>latitude</th>\n",
       "      <th>longitude</th>\n",
       "      <th>geo_precision</th>\n",
       "      <th>source</th>\n",
       "      <th>source_scale</th>\n",
       "      <th>notes</th>\n",
       "      <th>fatalities</th>\n",
       "      <th>timestamp</th>\n",
       "      <th>iso3</th>\n",
       "    </tr>\n",
       "  </thead>\n",
       "  <tbody>\n",
       "    <tr>\n",
       "      <th>0</th>\n",
       "      <td>7058002</td>\n",
       "      <td>4</td>\n",
       "      <td>AFG45107</td>\n",
       "      <td>45107</td>\n",
       "      <td>11 April 2020</td>\n",
       "      <td>2020</td>\n",
       "      <td>2</td>\n",
       "      <td>Explosions/Remote violence</td>\n",
       "      <td>Remote explosive/landmine/IED</td>\n",
       "      <td>Unidentified Armed Group (Afghanistan)</td>\n",
       "      <td>...</td>\n",
       "      <td>Kandahar</td>\n",
       "      <td>31.6133</td>\n",
       "      <td>65.7101</td>\n",
       "      <td>3</td>\n",
       "      <td>Herat TV</td>\n",
       "      <td>National</td>\n",
       "      <td>As reported on 11 April 2020, at least 3 civil...</td>\n",
       "      <td>3</td>\n",
       "      <td>1586794244</td>\n",
       "      <td>AFG</td>\n",
       "    </tr>\n",
       "    <tr>\n",
       "      <th>1</th>\n",
       "      <td>7058087</td>\n",
       "      <td>4</td>\n",
       "      <td>AFG45096</td>\n",
       "      <td>45096</td>\n",
       "      <td>11 April 2020</td>\n",
       "      <td>2020</td>\n",
       "      <td>1</td>\n",
       "      <td>Explosions/Remote violence</td>\n",
       "      <td>Remote explosive/landmine/IED</td>\n",
       "      <td>Unidentified Armed Group (Afghanistan)</td>\n",
       "      <td>...</td>\n",
       "      <td>Tagab</td>\n",
       "      <td>34.8550</td>\n",
       "      <td>69.6492</td>\n",
       "      <td>2</td>\n",
       "      <td>Pajhwok Afghan News</td>\n",
       "      <td>National</td>\n",
       "      <td>On 11 April 2020, 2 women and 2 Afghan securit...</td>\n",
       "      <td>4</td>\n",
       "      <td>1586794245</td>\n",
       "      <td>AFG</td>\n",
       "    </tr>\n",
       "    <tr>\n",
       "      <th>2</th>\n",
       "      <td>7058129</td>\n",
       "      <td>4</td>\n",
       "      <td>AFG45099</td>\n",
       "      <td>45099</td>\n",
       "      <td>11 April 2020</td>\n",
       "      <td>2020</td>\n",
       "      <td>1</td>\n",
       "      <td>Battles</td>\n",
       "      <td>Armed clash</td>\n",
       "      <td>Taliban</td>\n",
       "      <td>...</td>\n",
       "      <td>Ali Abad</td>\n",
       "      <td>36.5211</td>\n",
       "      <td>68.8998</td>\n",
       "      <td>2</td>\n",
       "      <td>Voice of Jihad</td>\n",
       "      <td>Other</td>\n",
       "      <td>On 11 April 2020, 1 soldier was killed or woun...</td>\n",
       "      <td>0</td>\n",
       "      <td>1586794245</td>\n",
       "      <td>AFG</td>\n",
       "    </tr>\n",
       "  </tbody>\n",
       "</table>\n",
       "<p>3 rows × 31 columns</p>\n",
       "</div>"
      ],
      "text/plain": [
       "   data_id  iso event_id_cnty  event_id_no_cnty     event_date  year  \\\n",
       "0  7058002    4      AFG45107             45107  11 April 2020  2020   \n",
       "1  7058087    4      AFG45096             45096  11 April 2020  2020   \n",
       "2  7058129    4      AFG45099             45099  11 April 2020  2020   \n",
       "\n",
       "   time_precision                  event_type                 sub_event_type  \\\n",
       "0               2  Explosions/Remote violence  Remote explosive/landmine/IED   \n",
       "1               1  Explosions/Remote violence  Remote explosive/landmine/IED   \n",
       "2               1                     Battles                    Armed clash   \n",
       "\n",
       "                                   actor1  ...  location  latitude longitude  \\\n",
       "0  Unidentified Armed Group (Afghanistan)  ...  Kandahar   31.6133   65.7101   \n",
       "1  Unidentified Armed Group (Afghanistan)  ...     Tagab   34.8550   69.6492   \n",
       "2                                 Taliban  ...  Ali Abad   36.5211   68.8998   \n",
       "\n",
       "  geo_precision               source  source_scale  \\\n",
       "0             3             Herat TV      National   \n",
       "1             2  Pajhwok Afghan News      National   \n",
       "2             2       Voice of Jihad         Other   \n",
       "\n",
       "                                               notes fatalities   timestamp  \\\n",
       "0  As reported on 11 April 2020, at least 3 civil...          3  1586794244   \n",
       "1  On 11 April 2020, 2 women and 2 Afghan securit...          4  1586794245   \n",
       "2  On 11 April 2020, 1 soldier was killed or woun...          0  1586794245   \n",
       "\n",
       "  iso3  \n",
       "0  AFG  \n",
       "1  AFG  \n",
       "2  AFG  \n",
       "\n",
       "[3 rows x 31 columns]"
      ]
     },
     "execution_count": 9,
     "metadata": {},
     "output_type": "execute_result"
    }
   ],
   "source": [
    "### your code here\n",
    "df.head(3)\n",
    "# ran successfully at 4/20/20"
   ]
  },
  {
   "cell_type": "markdown",
   "metadata": {},
   "source": [
    "#### Show the `tail(`) of the DataFrame "
   ]
  },
  {
   "cell_type": "code",
   "execution_count": 10,
   "metadata": {},
   "outputs": [
    {
     "data": {
      "text/html": [
       "<div>\n",
       "<style scoped>\n",
       "    .dataframe tbody tr th:only-of-type {\n",
       "        vertical-align: middle;\n",
       "    }\n",
       "\n",
       "    .dataframe tbody tr th {\n",
       "        vertical-align: top;\n",
       "    }\n",
       "\n",
       "    .dataframe thead th {\n",
       "        text-align: right;\n",
       "    }\n",
       "</style>\n",
       "<table border=\"1\" class=\"dataframe\">\n",
       "  <thead>\n",
       "    <tr style=\"text-align: right;\">\n",
       "      <th></th>\n",
       "      <th>data_id</th>\n",
       "      <th>iso</th>\n",
       "      <th>event_id_cnty</th>\n",
       "      <th>event_id_no_cnty</th>\n",
       "      <th>event_date</th>\n",
       "      <th>year</th>\n",
       "      <th>time_precision</th>\n",
       "      <th>event_type</th>\n",
       "      <th>sub_event_type</th>\n",
       "      <th>actor1</th>\n",
       "      <th>...</th>\n",
       "      <th>location</th>\n",
       "      <th>latitude</th>\n",
       "      <th>longitude</th>\n",
       "      <th>geo_precision</th>\n",
       "      <th>source</th>\n",
       "      <th>source_scale</th>\n",
       "      <th>notes</th>\n",
       "      <th>fatalities</th>\n",
       "      <th>timestamp</th>\n",
       "      <th>iso3</th>\n",
       "    </tr>\n",
       "  </thead>\n",
       "  <tbody>\n",
       "    <tr>\n",
       "      <th>15916</th>\n",
       "      <td>6829309</td>\n",
       "      <td>4</td>\n",
       "      <td>AFG15849</td>\n",
       "      <td>15849</td>\n",
       "      <td>01 January 2019</td>\n",
       "      <td>2019</td>\n",
       "      <td>2</td>\n",
       "      <td>Battles</td>\n",
       "      <td>Armed clash</td>\n",
       "      <td>Police Forces of Afghanistan (2014-) Afghan Lo...</td>\n",
       "      <td>...</td>\n",
       "      <td>Dashti Qala</td>\n",
       "      <td>37.2216</td>\n",
       "      <td>69.4975</td>\n",
       "      <td>2</td>\n",
       "      <td>Xinhua</td>\n",
       "      <td>International</td>\n",
       "      <td>On 01-January-2019, it was reported that 2 Afg...</td>\n",
       "      <td>5</td>\n",
       "      <td>1580846929</td>\n",
       "      <td>AFG</td>\n",
       "    </tr>\n",
       "    <tr>\n",
       "      <th>15917</th>\n",
       "      <td>6829310</td>\n",
       "      <td>4</td>\n",
       "      <td>AFG15839</td>\n",
       "      <td>15839</td>\n",
       "      <td>01 January 2019</td>\n",
       "      <td>2019</td>\n",
       "      <td>1</td>\n",
       "      <td>Battles</td>\n",
       "      <td>Armed clash</td>\n",
       "      <td>Military Forces of Afghanistan (2014-)</td>\n",
       "      <td>...</td>\n",
       "      <td>Dur Baba</td>\n",
       "      <td>34.0397</td>\n",
       "      <td>70.9300</td>\n",
       "      <td>2</td>\n",
       "      <td>Bakhtar News Agency</td>\n",
       "      <td>National</td>\n",
       "      <td>On 01-January-2019, 13 Islamic State and Talib...</td>\n",
       "      <td>5</td>\n",
       "      <td>1580846929</td>\n",
       "      <td>AFG</td>\n",
       "    </tr>\n",
       "    <tr>\n",
       "      <th>15918</th>\n",
       "      <td>6829311</td>\n",
       "      <td>4</td>\n",
       "      <td>AFG15841</td>\n",
       "      <td>15841</td>\n",
       "      <td>01 January 2019</td>\n",
       "      <td>2019</td>\n",
       "      <td>1</td>\n",
       "      <td>Battles</td>\n",
       "      <td>Armed clash</td>\n",
       "      <td>Military Forces of Afghanistan (2014-)</td>\n",
       "      <td>...</td>\n",
       "      <td>Rodat</td>\n",
       "      <td>34.2720</td>\n",
       "      <td>70.5679</td>\n",
       "      <td>2</td>\n",
       "      <td>Bakhtar News Agency</td>\n",
       "      <td>National</td>\n",
       "      <td>On 01-January-2019, 13 Islamic State and Talib...</td>\n",
       "      <td>4</td>\n",
       "      <td>1580846929</td>\n",
       "      <td>AFG</td>\n",
       "    </tr>\n",
       "  </tbody>\n",
       "</table>\n",
       "<p>3 rows × 31 columns</p>\n",
       "</div>"
      ],
      "text/plain": [
       "       data_id  iso event_id_cnty  event_id_no_cnty       event_date  year  \\\n",
       "15916  6829309    4      AFG15849             15849  01 January 2019  2019   \n",
       "15917  6829310    4      AFG15839             15839  01 January 2019  2019   \n",
       "15918  6829311    4      AFG15841             15841  01 January 2019  2019   \n",
       "\n",
       "       time_precision event_type sub_event_type  \\\n",
       "15916               2    Battles    Armed clash   \n",
       "15917               1    Battles    Armed clash   \n",
       "15918               1    Battles    Armed clash   \n",
       "\n",
       "                                                  actor1  ...     location  \\\n",
       "15916  Police Forces of Afghanistan (2014-) Afghan Lo...  ...  Dashti Qala   \n",
       "15917             Military Forces of Afghanistan (2014-)  ...     Dur Baba   \n",
       "15918             Military Forces of Afghanistan (2014-)  ...        Rodat   \n",
       "\n",
       "       latitude longitude geo_precision               source   source_scale  \\\n",
       "15916   37.2216   69.4975             2               Xinhua  International   \n",
       "15917   34.0397   70.9300             2  Bakhtar News Agency       National   \n",
       "15918   34.2720   70.5679             2  Bakhtar News Agency       National   \n",
       "\n",
       "                                                   notes fatalities  \\\n",
       "15916  On 01-January-2019, it was reported that 2 Afg...          5   \n",
       "15917  On 01-January-2019, 13 Islamic State and Talib...          5   \n",
       "15918  On 01-January-2019, 13 Islamic State and Talib...          4   \n",
       "\n",
       "        timestamp iso3  \n",
       "15916  1580846929  AFG  \n",
       "15917  1580846929  AFG  \n",
       "15918  1580846929  AFG  \n",
       "\n",
       "[3 rows x 31 columns]"
      ]
     },
     "execution_count": 10,
     "metadata": {},
     "output_type": "execute_result"
    }
   ],
   "source": [
    "### your code here\n",
    "df.tail(3)\n",
    "# ran successfully at 4/20/20\n",
    "# 15,918 rows"
   ]
  },
  {
   "cell_type": "markdown",
   "metadata": {},
   "source": [
    "#### (Optional)  Do any additional or other Data Exploration or Transformation to your data in cell(s) below;"
   ]
  },
  {
   "cell_type": "code",
   "execution_count": 11,
   "metadata": {},
   "outputs": [
    {
     "data": {
      "text/plain": [
       "(15919, 31)"
      ]
     },
     "execution_count": 11,
     "metadata": {},
     "output_type": "execute_result"
    }
   ],
   "source": [
    "### your optional code here\n",
    "# rows and columns\n",
    "df.shape"
   ]
  },
  {
   "cell_type": "code",
   "execution_count": 20,
   "metadata": {},
   "outputs": [
    {
     "data": {
      "text/html": [
       "<div>\n",
       "<style scoped>\n",
       "    .dataframe tbody tr th:only-of-type {\n",
       "        vertical-align: middle;\n",
       "    }\n",
       "\n",
       "    .dataframe tbody tr th {\n",
       "        vertical-align: top;\n",
       "    }\n",
       "\n",
       "    .dataframe thead th {\n",
       "        text-align: right;\n",
       "    }\n",
       "</style>\n",
       "<table border=\"1\" class=\"dataframe\">\n",
       "  <thead>\n",
       "    <tr style=\"text-align: right;\">\n",
       "      <th></th>\n",
       "      <th>data_id</th>\n",
       "      <th>event_date</th>\n",
       "      <th>notes</th>\n",
       "    </tr>\n",
       "  </thead>\n",
       "  <tbody>\n",
       "    <tr>\n",
       "      <th>0</th>\n",
       "      <td>7058002</td>\n",
       "      <td>11 April 2020</td>\n",
       "      <td>As reported on 11 April 2020, at least 3 civil...</td>\n",
       "    </tr>\n",
       "    <tr>\n",
       "      <th>1</th>\n",
       "      <td>7058087</td>\n",
       "      <td>11 April 2020</td>\n",
       "      <td>On 11 April 2020, 2 women and 2 Afghan securit...</td>\n",
       "    </tr>\n",
       "    <tr>\n",
       "      <th>2</th>\n",
       "      <td>7058129</td>\n",
       "      <td>11 April 2020</td>\n",
       "      <td>On 11 April 2020, 1 soldier was killed or woun...</td>\n",
       "    </tr>\n",
       "  </tbody>\n",
       "</table>\n",
       "</div>"
      ],
      "text/plain": [
       "   data_id     event_date                                              notes\n",
       "0  7058002  11 April 2020  As reported on 11 April 2020, at least 3 civil...\n",
       "1  7058087  11 April 2020  On 11 April 2020, 2 women and 2 Afghan securit...\n",
       "2  7058129  11 April 2020  On 11 April 2020, 1 soldier was killed or woun..."
      ]
     },
     "execution_count": 20,
     "metadata": {},
     "output_type": "execute_result"
    }
   ],
   "source": [
    "# subselect columns to show\n",
    "df[['data_id','event_date','notes']].head(3)\n",
    "# df[['data_id','event_date']].tail(3)"
   ]
  },
  {
   "cell_type": "code",
   "execution_count": 19,
   "metadata": {},
   "outputs": [
    {
     "name": "stdout",
     "output_type": "stream",
     "text": [
      "<class 'pandas.core.frame.DataFrame'>\n",
      "RangeIndex: 15919 entries, 0 to 15918\n",
      "Data columns (total 31 columns):\n",
      " #   Column            Non-Null Count  Dtype  \n",
      "---  ------            --------------  -----  \n",
      " 0   data_id           15919 non-null  int64  \n",
      " 1   iso               15919 non-null  int64  \n",
      " 2   event_id_cnty     15919 non-null  object \n",
      " 3   event_id_no_cnty  15919 non-null  int64  \n",
      " 4   event_date        15919 non-null  object \n",
      " 5   year              15919 non-null  int64  \n",
      " 6   time_precision    15919 non-null  int64  \n",
      " 7   event_type        15919 non-null  object \n",
      " 8   sub_event_type    15919 non-null  object \n",
      " 9   actor1            15919 non-null  object \n",
      " 10  assoc_actor_1     1131 non-null   object \n",
      " 11  inter1            15919 non-null  int64  \n",
      " 12  actor2            15895 non-null  object \n",
      " 13  assoc_actor_2     977 non-null    object \n",
      " 14  inter2            15919 non-null  int64  \n",
      " 15  interaction       15919 non-null  int64  \n",
      " 16  region            15919 non-null  object \n",
      " 17  country           15919 non-null  object \n",
      " 18  admin1            15919 non-null  object \n",
      " 19  admin2            15919 non-null  object \n",
      " 20  admin3            0 non-null      float64\n",
      " 21  location          15919 non-null  object \n",
      " 22  latitude          15919 non-null  float64\n",
      " 23  longitude         15919 non-null  float64\n",
      " 24  geo_precision     15919 non-null  int64  \n",
      " 25  source            15919 non-null  object \n",
      " 26  source_scale      15919 non-null  object \n",
      " 27  notes             15919 non-null  object \n",
      " 28  fatalities        15919 non-null  int64  \n",
      " 29  timestamp         15919 non-null  int64  \n",
      " 30  iso3              15919 non-null  object \n",
      "dtypes: float64(3), int64(11), object(17)\n",
      "memory usage: 3.8+ MB\n"
     ]
    }
   ],
   "source": [
    "df.info()"
   ]
  },
  {
   "cell_type": "code",
   "execution_count": 21,
   "metadata": {},
   "outputs": [
    {
     "data": {
      "text/html": [
       "<div>\n",
       "<style scoped>\n",
       "    .dataframe tbody tr th:only-of-type {\n",
       "        vertical-align: middle;\n",
       "    }\n",
       "\n",
       "    .dataframe tbody tr th {\n",
       "        vertical-align: top;\n",
       "    }\n",
       "\n",
       "    .dataframe thead th {\n",
       "        text-align: right;\n",
       "    }\n",
       "</style>\n",
       "<table border=\"1\" class=\"dataframe\">\n",
       "  <thead>\n",
       "    <tr style=\"text-align: right;\">\n",
       "      <th></th>\n",
       "      <th>data_id</th>\n",
       "      <th>iso</th>\n",
       "      <th>event_id_no_cnty</th>\n",
       "      <th>year</th>\n",
       "      <th>time_precision</th>\n",
       "      <th>inter1</th>\n",
       "      <th>inter2</th>\n",
       "      <th>interaction</th>\n",
       "      <th>admin3</th>\n",
       "      <th>latitude</th>\n",
       "      <th>longitude</th>\n",
       "      <th>geo_precision</th>\n",
       "      <th>fatalities</th>\n",
       "      <th>timestamp</th>\n",
       "    </tr>\n",
       "  </thead>\n",
       "  <tbody>\n",
       "    <tr>\n",
       "      <th>count</th>\n",
       "      <td>1.591900e+04</td>\n",
       "      <td>15919.0</td>\n",
       "      <td>15919.000000</td>\n",
       "      <td>15919.000000</td>\n",
       "      <td>15919.000000</td>\n",
       "      <td>15919.000000</td>\n",
       "      <td>15919.000000</td>\n",
       "      <td>15919.000000</td>\n",
       "      <td>0.0</td>\n",
       "      <td>15919.000000</td>\n",
       "      <td>15919.000000</td>\n",
       "      <td>15919.000000</td>\n",
       "      <td>15919.000000</td>\n",
       "      <td>1.591900e+04</td>\n",
       "    </tr>\n",
       "    <tr>\n",
       "      <th>mean</th>\n",
       "      <td>6.839230e+06</td>\n",
       "      <td>4.0</td>\n",
       "      <td>26679.803694</td>\n",
       "      <td>2019.144796</td>\n",
       "      <td>1.143979</td>\n",
       "      <td>1.836610</td>\n",
       "      <td>1.953766</td>\n",
       "      <td>14.862994</td>\n",
       "      <td>NaN</td>\n",
       "      <td>33.937433</td>\n",
       "      <td>67.092506</td>\n",
       "      <td>1.810164</td>\n",
       "      <td>2.882405</td>\n",
       "      <td>1.581256e+09</td>\n",
       "    </tr>\n",
       "    <tr>\n",
       "      <th>std</th>\n",
       "      <td>5.257479e+04</td>\n",
       "      <td>0.0</td>\n",
       "      <td>9160.086361</td>\n",
       "      <td>0.351906</td>\n",
       "      <td>0.351258</td>\n",
       "      <td>1.149412</td>\n",
       "      <td>1.595830</td>\n",
       "      <td>8.907301</td>\n",
       "      <td>NaN</td>\n",
       "      <td>1.737713</td>\n",
       "      <td>2.472981</td>\n",
       "      <td>0.452986</td>\n",
       "      <td>5.818624</td>\n",
       "      <td>1.261332e+06</td>\n",
       "    </tr>\n",
       "    <tr>\n",
       "      <th>min</th>\n",
       "      <td>6.814496e+06</td>\n",
       "      <td>4.0</td>\n",
       "      <td>15834.000000</td>\n",
       "      <td>2019.000000</td>\n",
       "      <td>1.000000</td>\n",
       "      <td>1.000000</td>\n",
       "      <td>0.000000</td>\n",
       "      <td>10.000000</td>\n",
       "      <td>NaN</td>\n",
       "      <td>29.730000</td>\n",
       "      <td>61.066700</td>\n",
       "      <td>1.000000</td>\n",
       "      <td>0.000000</td>\n",
       "      <td>1.580847e+09</td>\n",
       "    </tr>\n",
       "    <tr>\n",
       "      <th>25%</th>\n",
       "      <td>6.818778e+06</td>\n",
       "      <td>4.0</td>\n",
       "      <td>19904.500000</td>\n",
       "      <td>2019.000000</td>\n",
       "      <td>1.000000</td>\n",
       "      <td>1.000000</td>\n",
       "      <td>1.000000</td>\n",
       "      <td>12.000000</td>\n",
       "      <td>NaN</td>\n",
       "      <td>32.426900</td>\n",
       "      <td>65.096400</td>\n",
       "      <td>2.000000</td>\n",
       "      <td>0.000000</td>\n",
       "      <td>1.580847e+09</td>\n",
       "    </tr>\n",
       "    <tr>\n",
       "      <th>50%</th>\n",
       "      <td>6.823010e+06</td>\n",
       "      <td>4.0</td>\n",
       "      <td>24020.000000</td>\n",
       "      <td>2019.000000</td>\n",
       "      <td>1.000000</td>\n",
       "      <td>2.000000</td>\n",
       "      <td>1.000000</td>\n",
       "      <td>12.000000</td>\n",
       "      <td>NaN</td>\n",
       "      <td>33.791700</td>\n",
       "      <td>67.269200</td>\n",
       "      <td>2.000000</td>\n",
       "      <td>0.000000</td>\n",
       "      <td>1.580847e+09</td>\n",
       "    </tr>\n",
       "    <tr>\n",
       "      <th>75%</th>\n",
       "      <td>6.827192e+06</td>\n",
       "      <td>4.0</td>\n",
       "      <td>28282.500000</td>\n",
       "      <td>2019.000000</td>\n",
       "      <td>1.000000</td>\n",
       "      <td>2.000000</td>\n",
       "      <td>2.000000</td>\n",
       "      <td>12.000000</td>\n",
       "      <td>NaN</td>\n",
       "      <td>35.039700</td>\n",
       "      <td>69.099900</td>\n",
       "      <td>2.000000</td>\n",
       "      <td>4.000000</td>\n",
       "      <td>1.580847e+09</td>\n",
       "    </tr>\n",
       "    <tr>\n",
       "      <th>max</th>\n",
       "      <td>7.062222e+06</td>\n",
       "      <td>4.0</td>\n",
       "      <td>45115.000000</td>\n",
       "      <td>2020.000000</td>\n",
       "      <td>3.000000</td>\n",
       "      <td>8.000000</td>\n",
       "      <td>8.000000</td>\n",
       "      <td>80.000000</td>\n",
       "      <td>NaN</td>\n",
       "      <td>38.443500</td>\n",
       "      <td>71.547400</td>\n",
       "      <td>3.000000</td>\n",
       "      <td>165.000000</td>\n",
       "      <td>1.586901e+09</td>\n",
       "    </tr>\n",
       "  </tbody>\n",
       "</table>\n",
       "</div>"
      ],
      "text/plain": [
       "            data_id      iso  event_id_no_cnty          year  time_precision  \\\n",
       "count  1.591900e+04  15919.0      15919.000000  15919.000000    15919.000000   \n",
       "mean   6.839230e+06      4.0      26679.803694   2019.144796        1.143979   \n",
       "std    5.257479e+04      0.0       9160.086361      0.351906        0.351258   \n",
       "min    6.814496e+06      4.0      15834.000000   2019.000000        1.000000   \n",
       "25%    6.818778e+06      4.0      19904.500000   2019.000000        1.000000   \n",
       "50%    6.823010e+06      4.0      24020.000000   2019.000000        1.000000   \n",
       "75%    6.827192e+06      4.0      28282.500000   2019.000000        1.000000   \n",
       "max    7.062222e+06      4.0      45115.000000   2020.000000        3.000000   \n",
       "\n",
       "             inter1        inter2   interaction  admin3      latitude  \\\n",
       "count  15919.000000  15919.000000  15919.000000     0.0  15919.000000   \n",
       "mean       1.836610      1.953766     14.862994     NaN     33.937433   \n",
       "std        1.149412      1.595830      8.907301     NaN      1.737713   \n",
       "min        1.000000      0.000000     10.000000     NaN     29.730000   \n",
       "25%        1.000000      1.000000     12.000000     NaN     32.426900   \n",
       "50%        2.000000      1.000000     12.000000     NaN     33.791700   \n",
       "75%        2.000000      2.000000     12.000000     NaN     35.039700   \n",
       "max        8.000000      8.000000     80.000000     NaN     38.443500   \n",
       "\n",
       "          longitude  geo_precision    fatalities     timestamp  \n",
       "count  15919.000000   15919.000000  15919.000000  1.591900e+04  \n",
       "mean      67.092506       1.810164      2.882405  1.581256e+09  \n",
       "std        2.472981       0.452986      5.818624  1.261332e+06  \n",
       "min       61.066700       1.000000      0.000000  1.580847e+09  \n",
       "25%       65.096400       2.000000      0.000000  1.580847e+09  \n",
       "50%       67.269200       2.000000      0.000000  1.580847e+09  \n",
       "75%       69.099900       2.000000      4.000000  1.580847e+09  \n",
       "max       71.547400       3.000000    165.000000  1.586901e+09  "
      ]
     },
     "execution_count": 21,
     "metadata": {},
     "output_type": "execute_result"
    }
   ],
   "source": [
    "# run canned stats on numeric fields (but no sum)\n",
    "df.describe()"
   ]
  },
  {
   "cell_type": "code",
   "execution_count": 27,
   "metadata": {},
   "outputs": [
    {
     "data": {
      "text/plain": [
       "45885"
      ]
     },
     "execution_count": 27,
     "metadata": {},
     "output_type": "execute_result"
    }
   ],
   "source": [
    "df['fatalities'].sum()"
   ]
  },
  {
   "cell_type": "markdown",
   "metadata": {},
   "source": [
    "# 3. Exploratory Data Analysis (EDA) Plots"
   ]
  },
  {
   "cell_type": "markdown",
   "metadata": {},
   "source": [
    "#### Plot the Distribution of one of your data's columns in a Histogram Plot or some other Matplotlib, Seaborn, Missingno plot\n",
    "If you have a numerical column, otherwise plot a bar plot to show categorical counts. \n",
    "\n",
    "* Here's an code example for a bar plot - https://python-graph-gallery.com/1-basic-barplot\n",
    "\n"
   ]
  },
  {
   "cell_type": "code",
   "execution_count": 7,
   "metadata": {},
   "outputs": [],
   "source": [
    "### your code here\n",
    "### The goal is to plot events by day.\n",
    "#   Create an index column\n",
    "#   Group events by day.\n",
    "#   Count events by day.\n",
    "#   sum fatalities by day.\n"
   ]
  },
  {
   "cell_type": "code",
   "execution_count": 28,
   "metadata": {},
   "outputs": [],
   "source": [
    "### your code here\n",
    "#   Create an index col.\n",
    "df.reset_index(inplace=True) # creates a numeric index\n",
    "\n",
    "# ran successfully at 4/20/20"
   ]
  },
  {
   "cell_type": "code",
   "execution_count": 34,
   "metadata": {},
   "outputs": [
    {
     "data": {
      "text/html": [
       "<div>\n",
       "<style scoped>\n",
       "    .dataframe tbody tr th:only-of-type {\n",
       "        vertical-align: middle;\n",
       "    }\n",
       "\n",
       "    .dataframe tbody tr th {\n",
       "        vertical-align: top;\n",
       "    }\n",
       "\n",
       "    .dataframe thead th {\n",
       "        text-align: right;\n",
       "    }\n",
       "</style>\n",
       "<table border=\"1\" class=\"dataframe\">\n",
       "  <thead>\n",
       "    <tr style=\"text-align: right;\">\n",
       "      <th></th>\n",
       "      <th>fatalities</th>\n",
       "    </tr>\n",
       "    <tr>\n",
       "      <th>event_date</th>\n",
       "      <th></th>\n",
       "    </tr>\n",
       "  </thead>\n",
       "  <tbody>\n",
       "    <tr>\n",
       "      <th>01 April 2019</th>\n",
       "      <td>140</td>\n",
       "    </tr>\n",
       "    <tr>\n",
       "      <th>01 April 2020</th>\n",
       "      <td>52</td>\n",
       "    </tr>\n",
       "    <tr>\n",
       "      <th>01 August 2019</th>\n",
       "      <td>114</td>\n",
       "    </tr>\n",
       "    <tr>\n",
       "      <th>01 December 2019</th>\n",
       "      <td>158</td>\n",
       "    </tr>\n",
       "  </tbody>\n",
       "</table>\n",
       "</div>"
      ],
      "text/plain": [
       "                  fatalities\n",
       "event_date                  \n",
       "01 April 2019            140\n",
       "01 April 2020             52\n",
       "01 August 2019           114\n",
       "01 December 2019         158"
      ]
     },
     "execution_count": 34,
     "metadata": {},
     "output_type": "execute_result"
    }
   ],
   "source": [
    "#   Group events by day into a new data frame.\n",
    "# lesson code to mimic:\n",
    "#    boro_df[['geog_region', 'boro_population']].groupby(['geog_region']).sum()\n",
    "#    First we identify the columns we want to get, then, after groupby, \n",
    "#    we identify the column on which to group, then the method .sum()\n",
    "days_df=df[['event_date','fatalities']].groupby(['event_date']).sum()\n",
    "#    We get a table with a useless sort order unrelated to cronology because the dates are dtype of 'object' (strings)\n",
    "#    like this:\n",
    "days_df.head(4)"
   ]
  },
  {
   "cell_type": "code",
   "execution_count": 54,
   "metadata": {},
   "outputs": [
    {
     "ename": "SyntaxError",
     "evalue": "expression cannot contain assignment, perhaps you meant \"==\"? (<ipython-input-54-5a2d9f47b21a>, line 13)",
     "output_type": "error",
     "traceback": [
      "\u001b[1;36m  File \u001b[1;32m\"<ipython-input-54-5a2d9f47b21a>\"\u001b[1;36m, line \u001b[1;32m13\u001b[0m\n\u001b[1;33m    days_df.assign('event_datetimes' = pd.to_datetime(days_df['event_date'], format='%Y%m%d'))\u001b[0m\n\u001b[1;37m                   ^\u001b[0m\n\u001b[1;31mSyntaxError\u001b[0m\u001b[1;31m:\u001b[0m expression cannot contain assignment, perhaps you meant \"==\"?\n"
     ]
    }
   ],
   "source": [
    "# !!!  AS SENT TO DANNY FOR DEBUGGING - DON'T CHANGE !!!\n",
    "# I've grouped a table by day to graph it by day.  The order is bad.  To reorder the grouped table\n",
    "# by day, I'll try to insert and populate a new column with dates as numbers, then sort it.\n",
    "# An example of how to insert a new column:\n",
    "#     df.assign(new column name = [data for the new column])\n",
    "# An example of how to convert the dates to datetime, example:  \n",
    "#    df['DataFrame Column'] = pd.to_datetime(df['DataFrame Column'], format='%Y%m%d')\n",
    "\n",
    "# days_df is the name of the table that is grouped by day.\n",
    "# 'event_datetimes' is the name of the column I hope to insert\n",
    "# 'event_date' is the existing column of dates as strings (dtype='object')\n",
    "\n",
    "# here is my broken code:\n",
    "days_df.assign('event_datetimes' = pd.to_datetime(days_df['event_date'], format='%Y%m%d'))                                            "
   ]
  },
  {
   "cell_type": "code",
   "execution_count": 62,
   "metadata": {},
   "outputs": [
    {
     "ename": "KeyError",
     "evalue": "'event_date'",
     "output_type": "error",
     "traceback": [
      "\u001b[1;31m---------------------------------------------------------------------------\u001b[0m",
      "\u001b[1;31mKeyError\u001b[0m                                  Traceback (most recent call last)",
      "\u001b[1;32m~\\anaconda3\\envs\\savi\\lib\\site-packages\\pandas\\core\\indexes\\base.py\u001b[0m in \u001b[0;36mget_loc\u001b[1;34m(self, key, method, tolerance)\u001b[0m\n\u001b[0;32m   2645\u001b[0m             \u001b[1;32mtry\u001b[0m\u001b[1;33m:\u001b[0m\u001b[1;33m\u001b[0m\u001b[1;33m\u001b[0m\u001b[0m\n\u001b[1;32m-> 2646\u001b[1;33m                 \u001b[1;32mreturn\u001b[0m \u001b[0mself\u001b[0m\u001b[1;33m.\u001b[0m\u001b[0m_engine\u001b[0m\u001b[1;33m.\u001b[0m\u001b[0mget_loc\u001b[0m\u001b[1;33m(\u001b[0m\u001b[0mkey\u001b[0m\u001b[1;33m)\u001b[0m\u001b[1;33m\u001b[0m\u001b[1;33m\u001b[0m\u001b[0m\n\u001b[0m\u001b[0;32m   2647\u001b[0m             \u001b[1;32mexcept\u001b[0m \u001b[0mKeyError\u001b[0m\u001b[1;33m:\u001b[0m\u001b[1;33m\u001b[0m\u001b[1;33m\u001b[0m\u001b[0m\n",
      "\u001b[1;32mpandas\\_libs\\index.pyx\u001b[0m in \u001b[0;36mpandas._libs.index.IndexEngine.get_loc\u001b[1;34m()\u001b[0m\n",
      "\u001b[1;32mpandas\\_libs\\index.pyx\u001b[0m in \u001b[0;36mpandas._libs.index.IndexEngine.get_loc\u001b[1;34m()\u001b[0m\n",
      "\u001b[1;32mpandas\\_libs\\hashtable_class_helper.pxi\u001b[0m in \u001b[0;36mpandas._libs.hashtable.PyObjectHashTable.get_item\u001b[1;34m()\u001b[0m\n",
      "\u001b[1;32mpandas\\_libs\\hashtable_class_helper.pxi\u001b[0m in \u001b[0;36mpandas._libs.hashtable.PyObjectHashTable.get_item\u001b[1;34m()\u001b[0m\n",
      "\u001b[1;31mKeyError\u001b[0m: 'event_date'",
      "\nDuring handling of the above exception, another exception occurred:\n",
      "\u001b[1;31mKeyError\u001b[0m                                  Traceback (most recent call last)",
      "\u001b[1;32m<ipython-input-62-ef9dcc202777>\u001b[0m in \u001b[0;36m<module>\u001b[1;34m\u001b[0m\n\u001b[0;32m     13\u001b[0m \u001b[1;33m\u001b[0m\u001b[0m\n\u001b[0;32m     14\u001b[0m \u001b[1;31m# here is my broken code:\u001b[0m\u001b[1;33m\u001b[0m\u001b[1;33m\u001b[0m\u001b[1;33m\u001b[0m\u001b[0m\n\u001b[1;32m---> 15\u001b[1;33m \u001b[0mdays_df\u001b[0m\u001b[1;33m[\u001b[0m\u001b[1;34m'event_date'\u001b[0m\u001b[1;33m]\u001b[0m \u001b[1;33m=\u001b[0m \u001b[0mpd\u001b[0m\u001b[1;33m.\u001b[0m\u001b[0mto_datetime\u001b[0m\u001b[1;33m(\u001b[0m\u001b[0mdays_df\u001b[0m\u001b[1;33m[\u001b[0m\u001b[1;34m'event_date'\u001b[0m\u001b[1;33m]\u001b[0m\u001b[1;33m,\u001b[0m \u001b[0mformat\u001b[0m\u001b[1;33m=\u001b[0m\u001b[1;34m'%Y%m%d'\u001b[0m\u001b[1;33m)\u001b[0m\u001b[1;33m\u001b[0m\u001b[1;33m\u001b[0m\u001b[0m\n\u001b[0m",
      "\u001b[1;32m~\\anaconda3\\envs\\savi\\lib\\site-packages\\pandas\\core\\frame.py\u001b[0m in \u001b[0;36m__getitem__\u001b[1;34m(self, key)\u001b[0m\n\u001b[0;32m   2798\u001b[0m             \u001b[1;32mif\u001b[0m \u001b[0mself\u001b[0m\u001b[1;33m.\u001b[0m\u001b[0mcolumns\u001b[0m\u001b[1;33m.\u001b[0m\u001b[0mnlevels\u001b[0m \u001b[1;33m>\u001b[0m \u001b[1;36m1\u001b[0m\u001b[1;33m:\u001b[0m\u001b[1;33m\u001b[0m\u001b[1;33m\u001b[0m\u001b[0m\n\u001b[0;32m   2799\u001b[0m                 \u001b[1;32mreturn\u001b[0m \u001b[0mself\u001b[0m\u001b[1;33m.\u001b[0m\u001b[0m_getitem_multilevel\u001b[0m\u001b[1;33m(\u001b[0m\u001b[0mkey\u001b[0m\u001b[1;33m)\u001b[0m\u001b[1;33m\u001b[0m\u001b[1;33m\u001b[0m\u001b[0m\n\u001b[1;32m-> 2800\u001b[1;33m             \u001b[0mindexer\u001b[0m \u001b[1;33m=\u001b[0m \u001b[0mself\u001b[0m\u001b[1;33m.\u001b[0m\u001b[0mcolumns\u001b[0m\u001b[1;33m.\u001b[0m\u001b[0mget_loc\u001b[0m\u001b[1;33m(\u001b[0m\u001b[0mkey\u001b[0m\u001b[1;33m)\u001b[0m\u001b[1;33m\u001b[0m\u001b[1;33m\u001b[0m\u001b[0m\n\u001b[0m\u001b[0;32m   2801\u001b[0m             \u001b[1;32mif\u001b[0m \u001b[0mis_integer\u001b[0m\u001b[1;33m(\u001b[0m\u001b[0mindexer\u001b[0m\u001b[1;33m)\u001b[0m\u001b[1;33m:\u001b[0m\u001b[1;33m\u001b[0m\u001b[1;33m\u001b[0m\u001b[0m\n\u001b[0;32m   2802\u001b[0m                 \u001b[0mindexer\u001b[0m \u001b[1;33m=\u001b[0m \u001b[1;33m[\u001b[0m\u001b[0mindexer\u001b[0m\u001b[1;33m]\u001b[0m\u001b[1;33m\u001b[0m\u001b[1;33m\u001b[0m\u001b[0m\n",
      "\u001b[1;32m~\\anaconda3\\envs\\savi\\lib\\site-packages\\pandas\\core\\indexes\\base.py\u001b[0m in \u001b[0;36mget_loc\u001b[1;34m(self, key, method, tolerance)\u001b[0m\n\u001b[0;32m   2646\u001b[0m                 \u001b[1;32mreturn\u001b[0m \u001b[0mself\u001b[0m\u001b[1;33m.\u001b[0m\u001b[0m_engine\u001b[0m\u001b[1;33m.\u001b[0m\u001b[0mget_loc\u001b[0m\u001b[1;33m(\u001b[0m\u001b[0mkey\u001b[0m\u001b[1;33m)\u001b[0m\u001b[1;33m\u001b[0m\u001b[1;33m\u001b[0m\u001b[0m\n\u001b[0;32m   2647\u001b[0m             \u001b[1;32mexcept\u001b[0m \u001b[0mKeyError\u001b[0m\u001b[1;33m:\u001b[0m\u001b[1;33m\u001b[0m\u001b[1;33m\u001b[0m\u001b[0m\n\u001b[1;32m-> 2648\u001b[1;33m                 \u001b[1;32mreturn\u001b[0m \u001b[0mself\u001b[0m\u001b[1;33m.\u001b[0m\u001b[0m_engine\u001b[0m\u001b[1;33m.\u001b[0m\u001b[0mget_loc\u001b[0m\u001b[1;33m(\u001b[0m\u001b[0mself\u001b[0m\u001b[1;33m.\u001b[0m\u001b[0m_maybe_cast_indexer\u001b[0m\u001b[1;33m(\u001b[0m\u001b[0mkey\u001b[0m\u001b[1;33m)\u001b[0m\u001b[1;33m)\u001b[0m\u001b[1;33m\u001b[0m\u001b[1;33m\u001b[0m\u001b[0m\n\u001b[0m\u001b[0;32m   2649\u001b[0m         \u001b[0mindexer\u001b[0m \u001b[1;33m=\u001b[0m \u001b[0mself\u001b[0m\u001b[1;33m.\u001b[0m\u001b[0mget_indexer\u001b[0m\u001b[1;33m(\u001b[0m\u001b[1;33m[\u001b[0m\u001b[0mkey\u001b[0m\u001b[1;33m]\u001b[0m\u001b[1;33m,\u001b[0m \u001b[0mmethod\u001b[0m\u001b[1;33m=\u001b[0m\u001b[0mmethod\u001b[0m\u001b[1;33m,\u001b[0m \u001b[0mtolerance\u001b[0m\u001b[1;33m=\u001b[0m\u001b[0mtolerance\u001b[0m\u001b[1;33m)\u001b[0m\u001b[1;33m\u001b[0m\u001b[1;33m\u001b[0m\u001b[0m\n\u001b[0;32m   2650\u001b[0m         \u001b[1;32mif\u001b[0m \u001b[0mindexer\u001b[0m\u001b[1;33m.\u001b[0m\u001b[0mndim\u001b[0m \u001b[1;33m>\u001b[0m \u001b[1;36m1\u001b[0m \u001b[1;32mor\u001b[0m \u001b[0mindexer\u001b[0m\u001b[1;33m.\u001b[0m\u001b[0msize\u001b[0m \u001b[1;33m>\u001b[0m \u001b[1;36m1\u001b[0m\u001b[1;33m:\u001b[0m\u001b[1;33m\u001b[0m\u001b[1;33m\u001b[0m\u001b[0m\n",
      "\u001b[1;32mpandas\\_libs\\index.pyx\u001b[0m in \u001b[0;36mpandas._libs.index.IndexEngine.get_loc\u001b[1;34m()\u001b[0m\n",
      "\u001b[1;32mpandas\\_libs\\index.pyx\u001b[0m in \u001b[0;36mpandas._libs.index.IndexEngine.get_loc\u001b[1;34m()\u001b[0m\n",
      "\u001b[1;32mpandas\\_libs\\hashtable_class_helper.pxi\u001b[0m in \u001b[0;36mpandas._libs.hashtable.PyObjectHashTable.get_item\u001b[1;34m()\u001b[0m\n",
      "\u001b[1;32mpandas\\_libs\\hashtable_class_helper.pxi\u001b[0m in \u001b[0;36mpandas._libs.hashtable.PyObjectHashTable.get_item\u001b[1;34m()\u001b[0m\n",
      "\u001b[1;31mKeyError\u001b[0m: 'event_date'"
     ]
    }
   ],
   "source": [
    "# danny's debug of my attempt to convert string dates to datetime.\n",
    "df['event_date'] = pd.to_datetime(df['event_date'])"
   ]
  },
  {
   "cell_type": "code",
   "execution_count": null,
   "metadata": {},
   "outputs": [],
   "source": [
    "#danny code for doing a rolling average.\n",
    "days_df['rolling'] = days_df['fatalities'].rolling(30).mean()"
   ]
  },
  {
   "cell_type": "markdown",
   "metadata": {},
   "source": [
    "#### (Optional) Do any additional or other Plots in cell(s) below;"
   ]
  },
  {
   "cell_type": "code",
   "execution_count": 8,
   "metadata": {},
   "outputs": [],
   "source": [
    "### your optional code here\n",
    "### your optional code here\n",
    "### your optional code here"
   ]
  },
  {
   "cell_type": "markdown",
   "metadata": {},
   "source": [
    "# 4. Map your Data\n",
    "\n",
    "#### Create GeoDataFrame Map  `.plot()` to see our the spatial distribution of your data\n",
    "\n",
    "For this, please **add argument** `figsize=(10, 10)` inside our `.plot( )` function. \n",
    "\n",
    "* Add a title to your `plt` as well. _Hint `plt.title(...)`. "
   ]
  },
  {
   "cell_type": "code",
   "execution_count": 9,
   "metadata": {},
   "outputs": [],
   "source": [
    "### your code here\n",
    "### your code here\n",
    "### your code here"
   ]
  },
  {
   "cell_type": "markdown",
   "metadata": {},
   "source": [
    "#### (Optional) Do any additional or other Maps in cell(s) below;"
   ]
  },
  {
   "cell_type": "code",
   "execution_count": 10,
   "metadata": {},
   "outputs": [],
   "source": [
    "### your optional code here\n",
    "### your optional code here\n",
    "### your optional code here"
   ]
  },
  {
   "cell_type": "markdown",
   "metadata": {},
   "source": [
    "# 5. Highlight any interesting findings\n",
    "\n",
    "If there's any interesting summary statistics or findings or plots in a few key bullet points below, list some interesting notes about your data. \n",
    "\n",
    "Examples\n",
    "* My data is not normally distributed.\n",
    "* Over 50% of my values for column X are missing values. \n",
    "* I have suspicious outliers in my data\n",
    "* There appears to be some Geographic Distribution or pattern in your data. \n",
    "* Variable X appears to be correlated with Variable Y (statistical test(s) not required). \n"
   ]
  },
  {
   "cell_type": "markdown",
   "metadata": {},
   "source": [
    "# 6. Present\n",
    "\n",
    "This will be done in class, you'll need to present your Jupyter Notebook in class. \n",
    "\n",
    "**Present** your Exploratory Data Analysis to the class Monday 2020/04/13\n",
    "  - Required: Present your Notebook to the class - 5-7 minute presentation in class on Monday 2020/04/13. \n",
    "  - No need for Powerpoint or Slides, you'll present your Notebook. \n"
   ]
  }
 ],
 "metadata": {
  "kernelspec": {
   "display_name": "Python 3",
   "language": "python",
   "name": "python3"
  },
  "language_info": {
   "codemirror_mode": {
    "name": "ipython",
    "version": 3
   },
   "file_extension": ".py",
   "mimetype": "text/x-python",
   "name": "python",
   "nbconvert_exporter": "python",
   "pygments_lexer": "ipython3",
   "version": "3.8.2"
  },
  "toc": {
   "base_numbering": 1,
   "nav_menu": {},
   "number_sections": false,
   "sideBar": true,
   "skip_h1_title": false,
   "title_cell": "Table of Contents",
   "title_sidebar": "Contents",
   "toc_cell": true,
   "toc_position": {},
   "toc_section_display": true,
   "toc_window_display": true
  }
 },
 "nbformat": 4,
 "nbformat_minor": 2
}
